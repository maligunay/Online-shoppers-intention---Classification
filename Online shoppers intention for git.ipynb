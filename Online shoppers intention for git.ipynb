{
 "cells": [
  {
   "cell_type": "markdown",
   "metadata": {},
   "source": [
    "### Abstract"
   ]
  },
  {
   "cell_type": "markdown",
   "metadata": {},
   "source": [
    "The Online Shoppers Intention dataset includes feature vectors belonging to 12,330 observations. In order not to show any trend towards a certain campaign, special day, user profile or duration, the data set was created in a way that each session belongs to a different user in a 1-year period. The target variable in the dataset is the Revenue variable. Of the 12,330 observations belong to Revenue variable, 84.5% (10,422) have been negative class samples that were completed without shopping, and the rest (1908) have been positive class samples completed with shopping. This report includes a summary and discussion of the results of the study, which included data exploration, data pre-processing, model implementation, and performance evaluation."
   ]
  },
  {
   "cell_type": "markdown",
   "metadata": {},
   "source": [
    "### Libraries"
   ]
  },
  {
   "cell_type": "code",
   "execution_count": 1,
   "metadata": {
    "id": "VW0GDviUNFAf"
   },
   "outputs": [],
   "source": [
    "#Import the libraries that will be used\n",
    "import pandas as pd\n",
    "import numpy as np\n",
    "import matplotlib.pyplot as plt\n",
    "import seaborn as sns\n",
    "from sklearn.model_selection import train_test_split\n",
    "from sklearn.feature_selection import SelectKBest\n",
    "from sklearn.feature_selection import chi2\n",
    "from sklearn.model_selection import cross_val_score\n",
    "from sklearn.ensemble import RandomForestClassifier\n",
    "import lightgbm as lgb\n",
    "from lightgbm import LGBMClassifier\n",
    "from sklearn.ensemble import AdaBoostClassifier\n",
    "from sklearn import metrics\n",
    "from sklearn.metrics import accuracy_score,precision_score,recall_score,classification_report\n",
    "from sklearn.metrics import roc_auc_score, plot_roc_curve\n",
    "from sklearn.preprocessing import OneHotEncoder\n",
    "from sklearn.preprocessing import StandardScaler \n",
    "from imblearn.over_sampling import SMOTE\n",
    "from sklearn.preprocessing import PolynomialFeatures\n",
    "from sklearn.model_selection import GridSearchCV\n",
    "\n",
    "from warnings import filterwarnings\n",
    "filterwarnings('ignore')"
   ]
  },
  {
   "cell_type": "markdown",
   "metadata": {},
   "source": [
    "### Reading the Dataset"
   ]
  },
  {
   "cell_type": "code",
   "execution_count": 2,
   "metadata": {
    "id": "ddrbxE5eNFAj"
   },
   "outputs": [],
   "source": [
    "data = pd.read_csv('Online_Shoppers_Intention.csv') #Read the data"
   ]
  },
  {
   "cell_type": "markdown",
   "metadata": {},
   "source": [
    "### Some Analysis to Understand the Data"
   ]
  },
  {
   "cell_type": "code",
   "execution_count": 3,
   "metadata": {
    "colab": {
     "base_uri": "https://localhost:8080/",
     "height": 226
    },
    "id": "V8GMbEubNFAj",
    "outputId": "117a86dd-9361-4de1-a693-3bea21314997"
   },
   "outputs": [
    {
     "data": {
      "text/html": [
       "<div>\n",
       "<style scoped>\n",
       "    .dataframe tbody tr th:only-of-type {\n",
       "        vertical-align: middle;\n",
       "    }\n",
       "\n",
       "    .dataframe tbody tr th {\n",
       "        vertical-align: top;\n",
       "    }\n",
       "\n",
       "    .dataframe thead th {\n",
       "        text-align: right;\n",
       "    }\n",
       "</style>\n",
       "<table border=\"1\" class=\"dataframe\">\n",
       "  <thead>\n",
       "    <tr style=\"text-align: right;\">\n",
       "      <th></th>\n",
       "      <th>Administrative</th>\n",
       "      <th>Administrative_Duration</th>\n",
       "      <th>Informational</th>\n",
       "      <th>Informational_Duration</th>\n",
       "      <th>ProductRelated</th>\n",
       "      <th>ProductRelated_Duration</th>\n",
       "      <th>BounceRates</th>\n",
       "      <th>ExitRates</th>\n",
       "      <th>PageValues</th>\n",
       "      <th>SpecialDay</th>\n",
       "      <th>Month</th>\n",
       "      <th>OperatingSystems</th>\n",
       "      <th>Browser</th>\n",
       "      <th>Region</th>\n",
       "      <th>TrafficType</th>\n",
       "      <th>VisitorType</th>\n",
       "      <th>Weekend</th>\n",
       "      <th>Revenue</th>\n",
       "    </tr>\n",
       "  </thead>\n",
       "  <tbody>\n",
       "    <tr>\n",
       "      <td>0</td>\n",
       "      <td>0</td>\n",
       "      <td>0.0</td>\n",
       "      <td>0</td>\n",
       "      <td>0.0</td>\n",
       "      <td>1</td>\n",
       "      <td>0.000000</td>\n",
       "      <td>0.20</td>\n",
       "      <td>0.20</td>\n",
       "      <td>0.0</td>\n",
       "      <td>0.0</td>\n",
       "      <td>Feb</td>\n",
       "      <td>1</td>\n",
       "      <td>1</td>\n",
       "      <td>1</td>\n",
       "      <td>1</td>\n",
       "      <td>Returning_Visitor</td>\n",
       "      <td>False</td>\n",
       "      <td>False</td>\n",
       "    </tr>\n",
       "    <tr>\n",
       "      <td>1</td>\n",
       "      <td>0</td>\n",
       "      <td>0.0</td>\n",
       "      <td>0</td>\n",
       "      <td>0.0</td>\n",
       "      <td>2</td>\n",
       "      <td>64.000000</td>\n",
       "      <td>0.00</td>\n",
       "      <td>0.10</td>\n",
       "      <td>0.0</td>\n",
       "      <td>0.0</td>\n",
       "      <td>Feb</td>\n",
       "      <td>2</td>\n",
       "      <td>2</td>\n",
       "      <td>1</td>\n",
       "      <td>2</td>\n",
       "      <td>Returning_Visitor</td>\n",
       "      <td>False</td>\n",
       "      <td>False</td>\n",
       "    </tr>\n",
       "    <tr>\n",
       "      <td>2</td>\n",
       "      <td>0</td>\n",
       "      <td>0.0</td>\n",
       "      <td>0</td>\n",
       "      <td>0.0</td>\n",
       "      <td>1</td>\n",
       "      <td>0.000000</td>\n",
       "      <td>0.20</td>\n",
       "      <td>0.20</td>\n",
       "      <td>0.0</td>\n",
       "      <td>0.0</td>\n",
       "      <td>Feb</td>\n",
       "      <td>4</td>\n",
       "      <td>1</td>\n",
       "      <td>9</td>\n",
       "      <td>3</td>\n",
       "      <td>Returning_Visitor</td>\n",
       "      <td>False</td>\n",
       "      <td>False</td>\n",
       "    </tr>\n",
       "    <tr>\n",
       "      <td>3</td>\n",
       "      <td>0</td>\n",
       "      <td>0.0</td>\n",
       "      <td>0</td>\n",
       "      <td>0.0</td>\n",
       "      <td>2</td>\n",
       "      <td>2.666667</td>\n",
       "      <td>0.05</td>\n",
       "      <td>0.14</td>\n",
       "      <td>0.0</td>\n",
       "      <td>0.0</td>\n",
       "      <td>Feb</td>\n",
       "      <td>3</td>\n",
       "      <td>2</td>\n",
       "      <td>2</td>\n",
       "      <td>4</td>\n",
       "      <td>Returning_Visitor</td>\n",
       "      <td>False</td>\n",
       "      <td>False</td>\n",
       "    </tr>\n",
       "    <tr>\n",
       "      <td>4</td>\n",
       "      <td>0</td>\n",
       "      <td>0.0</td>\n",
       "      <td>0</td>\n",
       "      <td>0.0</td>\n",
       "      <td>10</td>\n",
       "      <td>627.500000</td>\n",
       "      <td>0.02</td>\n",
       "      <td>0.05</td>\n",
       "      <td>0.0</td>\n",
       "      <td>0.0</td>\n",
       "      <td>Feb</td>\n",
       "      <td>3</td>\n",
       "      <td>3</td>\n",
       "      <td>1</td>\n",
       "      <td>4</td>\n",
       "      <td>Returning_Visitor</td>\n",
       "      <td>True</td>\n",
       "      <td>False</td>\n",
       "    </tr>\n",
       "  </tbody>\n",
       "</table>\n",
       "</div>"
      ],
      "text/plain": [
       "   Administrative  Administrative_Duration  Informational  \\\n",
       "0               0                      0.0              0   \n",
       "1               0                      0.0              0   \n",
       "2               0                      0.0              0   \n",
       "3               0                      0.0              0   \n",
       "4               0                      0.0              0   \n",
       "\n",
       "   Informational_Duration  ProductRelated  ProductRelated_Duration  \\\n",
       "0                     0.0               1                 0.000000   \n",
       "1                     0.0               2                64.000000   \n",
       "2                     0.0               1                 0.000000   \n",
       "3                     0.0               2                 2.666667   \n",
       "4                     0.0              10               627.500000   \n",
       "\n",
       "   BounceRates  ExitRates  PageValues  SpecialDay Month  OperatingSystems  \\\n",
       "0         0.20       0.20         0.0         0.0   Feb                 1   \n",
       "1         0.00       0.10         0.0         0.0   Feb                 2   \n",
       "2         0.20       0.20         0.0         0.0   Feb                 4   \n",
       "3         0.05       0.14         0.0         0.0   Feb                 3   \n",
       "4         0.02       0.05         0.0         0.0   Feb                 3   \n",
       "\n",
       "   Browser  Region  TrafficType        VisitorType  Weekend  Revenue  \n",
       "0        1       1            1  Returning_Visitor    False    False  \n",
       "1        2       1            2  Returning_Visitor    False    False  \n",
       "2        1       9            3  Returning_Visitor    False    False  \n",
       "3        2       2            4  Returning_Visitor    False    False  \n",
       "4        3       1            4  Returning_Visitor     True    False  "
      ]
     },
     "execution_count": 3,
     "metadata": {},
     "output_type": "execute_result"
    }
   ],
   "source": [
    "data.head() #Get the first 5 rows  "
   ]
  },
  {
   "cell_type": "code",
   "execution_count": 4,
   "metadata": {
    "colab": {
     "base_uri": "https://localhost:8080/",
     "height": 226
    },
    "id": "YAaOZGCxNFAm",
    "outputId": "334ced4c-d737-4f08-d14c-5956f464e86e"
   },
   "outputs": [
    {
     "data": {
      "text/html": [
       "<div>\n",
       "<style scoped>\n",
       "    .dataframe tbody tr th:only-of-type {\n",
       "        vertical-align: middle;\n",
       "    }\n",
       "\n",
       "    .dataframe tbody tr th {\n",
       "        vertical-align: top;\n",
       "    }\n",
       "\n",
       "    .dataframe thead th {\n",
       "        text-align: right;\n",
       "    }\n",
       "</style>\n",
       "<table border=\"1\" class=\"dataframe\">\n",
       "  <thead>\n",
       "    <tr style=\"text-align: right;\">\n",
       "      <th></th>\n",
       "      <th>Administrative</th>\n",
       "      <th>Administrative_Duration</th>\n",
       "      <th>Informational</th>\n",
       "      <th>Informational_Duration</th>\n",
       "      <th>ProductRelated</th>\n",
       "      <th>ProductRelated_Duration</th>\n",
       "      <th>BounceRates</th>\n",
       "      <th>ExitRates</th>\n",
       "      <th>PageValues</th>\n",
       "      <th>SpecialDay</th>\n",
       "      <th>Month</th>\n",
       "      <th>OperatingSystems</th>\n",
       "      <th>Browser</th>\n",
       "      <th>Region</th>\n",
       "      <th>TrafficType</th>\n",
       "      <th>VisitorType</th>\n",
       "      <th>Weekend</th>\n",
       "      <th>Revenue</th>\n",
       "    </tr>\n",
       "  </thead>\n",
       "  <tbody>\n",
       "    <tr>\n",
       "      <td>12325</td>\n",
       "      <td>3</td>\n",
       "      <td>145.0</td>\n",
       "      <td>0</td>\n",
       "      <td>0.0</td>\n",
       "      <td>53</td>\n",
       "      <td>1783.791667</td>\n",
       "      <td>0.007143</td>\n",
       "      <td>0.029031</td>\n",
       "      <td>12.241717</td>\n",
       "      <td>0.0</td>\n",
       "      <td>Dec</td>\n",
       "      <td>4</td>\n",
       "      <td>6</td>\n",
       "      <td>1</td>\n",
       "      <td>1</td>\n",
       "      <td>Returning_Visitor</td>\n",
       "      <td>True</td>\n",
       "      <td>False</td>\n",
       "    </tr>\n",
       "    <tr>\n",
       "      <td>12326</td>\n",
       "      <td>0</td>\n",
       "      <td>0.0</td>\n",
       "      <td>0</td>\n",
       "      <td>0.0</td>\n",
       "      <td>5</td>\n",
       "      <td>465.750000</td>\n",
       "      <td>0.000000</td>\n",
       "      <td>0.021333</td>\n",
       "      <td>0.000000</td>\n",
       "      <td>0.0</td>\n",
       "      <td>Nov</td>\n",
       "      <td>3</td>\n",
       "      <td>2</td>\n",
       "      <td>1</td>\n",
       "      <td>8</td>\n",
       "      <td>Returning_Visitor</td>\n",
       "      <td>True</td>\n",
       "      <td>False</td>\n",
       "    </tr>\n",
       "    <tr>\n",
       "      <td>12327</td>\n",
       "      <td>0</td>\n",
       "      <td>0.0</td>\n",
       "      <td>0</td>\n",
       "      <td>0.0</td>\n",
       "      <td>6</td>\n",
       "      <td>184.250000</td>\n",
       "      <td>0.083333</td>\n",
       "      <td>0.086667</td>\n",
       "      <td>0.000000</td>\n",
       "      <td>0.0</td>\n",
       "      <td>Nov</td>\n",
       "      <td>3</td>\n",
       "      <td>2</td>\n",
       "      <td>1</td>\n",
       "      <td>13</td>\n",
       "      <td>Returning_Visitor</td>\n",
       "      <td>True</td>\n",
       "      <td>False</td>\n",
       "    </tr>\n",
       "    <tr>\n",
       "      <td>12328</td>\n",
       "      <td>4</td>\n",
       "      <td>75.0</td>\n",
       "      <td>0</td>\n",
       "      <td>0.0</td>\n",
       "      <td>15</td>\n",
       "      <td>346.000000</td>\n",
       "      <td>0.000000</td>\n",
       "      <td>0.021053</td>\n",
       "      <td>0.000000</td>\n",
       "      <td>0.0</td>\n",
       "      <td>Nov</td>\n",
       "      <td>2</td>\n",
       "      <td>2</td>\n",
       "      <td>3</td>\n",
       "      <td>11</td>\n",
       "      <td>Returning_Visitor</td>\n",
       "      <td>False</td>\n",
       "      <td>False</td>\n",
       "    </tr>\n",
       "    <tr>\n",
       "      <td>12329</td>\n",
       "      <td>0</td>\n",
       "      <td>0.0</td>\n",
       "      <td>0</td>\n",
       "      <td>0.0</td>\n",
       "      <td>3</td>\n",
       "      <td>21.250000</td>\n",
       "      <td>0.000000</td>\n",
       "      <td>0.066667</td>\n",
       "      <td>0.000000</td>\n",
       "      <td>0.0</td>\n",
       "      <td>Nov</td>\n",
       "      <td>3</td>\n",
       "      <td>2</td>\n",
       "      <td>1</td>\n",
       "      <td>2</td>\n",
       "      <td>New_Visitor</td>\n",
       "      <td>True</td>\n",
       "      <td>False</td>\n",
       "    </tr>\n",
       "  </tbody>\n",
       "</table>\n",
       "</div>"
      ],
      "text/plain": [
       "       Administrative  Administrative_Duration  Informational  \\\n",
       "12325               3                    145.0              0   \n",
       "12326               0                      0.0              0   \n",
       "12327               0                      0.0              0   \n",
       "12328               4                     75.0              0   \n",
       "12329               0                      0.0              0   \n",
       "\n",
       "       Informational_Duration  ProductRelated  ProductRelated_Duration  \\\n",
       "12325                     0.0              53              1783.791667   \n",
       "12326                     0.0               5               465.750000   \n",
       "12327                     0.0               6               184.250000   \n",
       "12328                     0.0              15               346.000000   \n",
       "12329                     0.0               3                21.250000   \n",
       "\n",
       "       BounceRates  ExitRates  PageValues  SpecialDay Month  OperatingSystems  \\\n",
       "12325     0.007143   0.029031   12.241717         0.0   Dec                 4   \n",
       "12326     0.000000   0.021333    0.000000         0.0   Nov                 3   \n",
       "12327     0.083333   0.086667    0.000000         0.0   Nov                 3   \n",
       "12328     0.000000   0.021053    0.000000         0.0   Nov                 2   \n",
       "12329     0.000000   0.066667    0.000000         0.0   Nov                 3   \n",
       "\n",
       "       Browser  Region  TrafficType        VisitorType  Weekend  Revenue  \n",
       "12325        6       1            1  Returning_Visitor     True    False  \n",
       "12326        2       1            8  Returning_Visitor     True    False  \n",
       "12327        2       1           13  Returning_Visitor     True    False  \n",
       "12328        2       3           11  Returning_Visitor    False    False  \n",
       "12329        2       1            2        New_Visitor     True    False  "
      ]
     },
     "execution_count": 4,
     "metadata": {},
     "output_type": "execute_result"
    }
   ],
   "source": [
    "data.tail() #Get the last 5 rows"
   ]
  },
  {
   "cell_type": "code",
   "execution_count": 5,
   "metadata": {
    "colab": {
     "base_uri": "https://localhost:8080/"
    },
    "id": "3vwEi0IHNFAn",
    "outputId": "8eac5853-fd03-4cba-e0ed-8633a16072d5"
   },
   "outputs": [
    {
     "data": {
      "text/plain": [
       "(12330, 18)"
      ]
     },
     "execution_count": 5,
     "metadata": {},
     "output_type": "execute_result"
    }
   ],
   "source": [
    "data.shape  #Check the shape of data"
   ]
  },
  {
   "cell_type": "code",
   "execution_count": 6,
   "metadata": {
    "colab": {
     "base_uri": "https://localhost:8080/"
    },
    "id": "YnA5AXKyNFAp",
    "outputId": "d4d0a70d-0be1-454c-8282-6497e13ff184"
   },
   "outputs": [
    {
     "name": "stdout",
     "output_type": "stream",
     "text": [
      "<class 'pandas.core.frame.DataFrame'>\n",
      "RangeIndex: 12330 entries, 0 to 12329\n",
      "Data columns (total 18 columns):\n",
      "Administrative             12330 non-null int64\n",
      "Administrative_Duration    12330 non-null float64\n",
      "Informational              12330 non-null int64\n",
      "Informational_Duration     12330 non-null float64\n",
      "ProductRelated             12330 non-null int64\n",
      "ProductRelated_Duration    12330 non-null float64\n",
      "BounceRates                12330 non-null float64\n",
      "ExitRates                  12330 non-null float64\n",
      "PageValues                 12330 non-null float64\n",
      "SpecialDay                 12330 non-null float64\n",
      "Month                      12330 non-null object\n",
      "OperatingSystems           12330 non-null int64\n",
      "Browser                    12330 non-null int64\n",
      "Region                     12330 non-null int64\n",
      "TrafficType                12330 non-null int64\n",
      "VisitorType                12330 non-null object\n",
      "Weekend                    12330 non-null bool\n",
      "Revenue                    12330 non-null bool\n",
      "dtypes: bool(2), float64(7), int64(7), object(2)\n",
      "memory usage: 1.5+ MB\n"
     ]
    }
   ],
   "source": [
    "data.info() #Get the general information about data such as type of variables, index numbers and missing values   "
   ]
  },
  {
   "cell_type": "code",
   "execution_count": 7,
   "metadata": {
    "colab": {
     "base_uri": "https://localhost:8080/",
     "height": 488
    },
    "id": "XQZ5D5HONFAq",
    "outputId": "f67169c7-32bd-4103-9420-a102f6b0858c"
   },
   "outputs": [
    {
     "data": {
      "text/html": [
       "<div>\n",
       "<style scoped>\n",
       "    .dataframe tbody tr th:only-of-type {\n",
       "        vertical-align: middle;\n",
       "    }\n",
       "\n",
       "    .dataframe tbody tr th {\n",
       "        vertical-align: top;\n",
       "    }\n",
       "\n",
       "    .dataframe thead th {\n",
       "        text-align: right;\n",
       "    }\n",
       "</style>\n",
       "<table border=\"1\" class=\"dataframe\">\n",
       "  <thead>\n",
       "    <tr style=\"text-align: right;\">\n",
       "      <th></th>\n",
       "      <th>count</th>\n",
       "      <th>mean</th>\n",
       "      <th>std</th>\n",
       "      <th>min</th>\n",
       "      <th>25%</th>\n",
       "      <th>50%</th>\n",
       "      <th>75%</th>\n",
       "      <th>max</th>\n",
       "    </tr>\n",
       "  </thead>\n",
       "  <tbody>\n",
       "    <tr>\n",
       "      <td>Administrative</td>\n",
       "      <td>12330.0</td>\n",
       "      <td>2.315166</td>\n",
       "      <td>3.321784</td>\n",
       "      <td>0.0</td>\n",
       "      <td>0.000000</td>\n",
       "      <td>1.000000</td>\n",
       "      <td>4.000000</td>\n",
       "      <td>27.000000</td>\n",
       "    </tr>\n",
       "    <tr>\n",
       "      <td>Administrative_Duration</td>\n",
       "      <td>12330.0</td>\n",
       "      <td>80.818611</td>\n",
       "      <td>176.779107</td>\n",
       "      <td>0.0</td>\n",
       "      <td>0.000000</td>\n",
       "      <td>7.500000</td>\n",
       "      <td>93.256250</td>\n",
       "      <td>3398.750000</td>\n",
       "    </tr>\n",
       "    <tr>\n",
       "      <td>Informational</td>\n",
       "      <td>12330.0</td>\n",
       "      <td>0.503569</td>\n",
       "      <td>1.270156</td>\n",
       "      <td>0.0</td>\n",
       "      <td>0.000000</td>\n",
       "      <td>0.000000</td>\n",
       "      <td>0.000000</td>\n",
       "      <td>24.000000</td>\n",
       "    </tr>\n",
       "    <tr>\n",
       "      <td>Informational_Duration</td>\n",
       "      <td>12330.0</td>\n",
       "      <td>34.472398</td>\n",
       "      <td>140.749294</td>\n",
       "      <td>0.0</td>\n",
       "      <td>0.000000</td>\n",
       "      <td>0.000000</td>\n",
       "      <td>0.000000</td>\n",
       "      <td>2549.375000</td>\n",
       "    </tr>\n",
       "    <tr>\n",
       "      <td>ProductRelated</td>\n",
       "      <td>12330.0</td>\n",
       "      <td>31.731468</td>\n",
       "      <td>44.475503</td>\n",
       "      <td>0.0</td>\n",
       "      <td>7.000000</td>\n",
       "      <td>18.000000</td>\n",
       "      <td>38.000000</td>\n",
       "      <td>705.000000</td>\n",
       "    </tr>\n",
       "    <tr>\n",
       "      <td>ProductRelated_Duration</td>\n",
       "      <td>12330.0</td>\n",
       "      <td>1194.746220</td>\n",
       "      <td>1913.669288</td>\n",
       "      <td>0.0</td>\n",
       "      <td>184.137500</td>\n",
       "      <td>598.936905</td>\n",
       "      <td>1464.157213</td>\n",
       "      <td>63973.522230</td>\n",
       "    </tr>\n",
       "    <tr>\n",
       "      <td>BounceRates</td>\n",
       "      <td>12330.0</td>\n",
       "      <td>0.022191</td>\n",
       "      <td>0.048488</td>\n",
       "      <td>0.0</td>\n",
       "      <td>0.000000</td>\n",
       "      <td>0.003112</td>\n",
       "      <td>0.016813</td>\n",
       "      <td>0.200000</td>\n",
       "    </tr>\n",
       "    <tr>\n",
       "      <td>ExitRates</td>\n",
       "      <td>12330.0</td>\n",
       "      <td>0.043073</td>\n",
       "      <td>0.048597</td>\n",
       "      <td>0.0</td>\n",
       "      <td>0.014286</td>\n",
       "      <td>0.025156</td>\n",
       "      <td>0.050000</td>\n",
       "      <td>0.200000</td>\n",
       "    </tr>\n",
       "    <tr>\n",
       "      <td>PageValues</td>\n",
       "      <td>12330.0</td>\n",
       "      <td>5.889258</td>\n",
       "      <td>18.568437</td>\n",
       "      <td>0.0</td>\n",
       "      <td>0.000000</td>\n",
       "      <td>0.000000</td>\n",
       "      <td>0.000000</td>\n",
       "      <td>361.763742</td>\n",
       "    </tr>\n",
       "    <tr>\n",
       "      <td>SpecialDay</td>\n",
       "      <td>12330.0</td>\n",
       "      <td>0.061427</td>\n",
       "      <td>0.198917</td>\n",
       "      <td>0.0</td>\n",
       "      <td>0.000000</td>\n",
       "      <td>0.000000</td>\n",
       "      <td>0.000000</td>\n",
       "      <td>1.000000</td>\n",
       "    </tr>\n",
       "    <tr>\n",
       "      <td>OperatingSystems</td>\n",
       "      <td>12330.0</td>\n",
       "      <td>2.124006</td>\n",
       "      <td>0.911325</td>\n",
       "      <td>1.0</td>\n",
       "      <td>2.000000</td>\n",
       "      <td>2.000000</td>\n",
       "      <td>3.000000</td>\n",
       "      <td>8.000000</td>\n",
       "    </tr>\n",
       "    <tr>\n",
       "      <td>Browser</td>\n",
       "      <td>12330.0</td>\n",
       "      <td>2.357097</td>\n",
       "      <td>1.717277</td>\n",
       "      <td>1.0</td>\n",
       "      <td>2.000000</td>\n",
       "      <td>2.000000</td>\n",
       "      <td>2.000000</td>\n",
       "      <td>13.000000</td>\n",
       "    </tr>\n",
       "    <tr>\n",
       "      <td>Region</td>\n",
       "      <td>12330.0</td>\n",
       "      <td>3.147364</td>\n",
       "      <td>2.401591</td>\n",
       "      <td>1.0</td>\n",
       "      <td>1.000000</td>\n",
       "      <td>3.000000</td>\n",
       "      <td>4.000000</td>\n",
       "      <td>9.000000</td>\n",
       "    </tr>\n",
       "    <tr>\n",
       "      <td>TrafficType</td>\n",
       "      <td>12330.0</td>\n",
       "      <td>4.069586</td>\n",
       "      <td>4.025169</td>\n",
       "      <td>1.0</td>\n",
       "      <td>2.000000</td>\n",
       "      <td>2.000000</td>\n",
       "      <td>4.000000</td>\n",
       "      <td>20.000000</td>\n",
       "    </tr>\n",
       "  </tbody>\n",
       "</table>\n",
       "</div>"
      ],
      "text/plain": [
       "                           count         mean          std  min         25%  \\\n",
       "Administrative           12330.0     2.315166     3.321784  0.0    0.000000   \n",
       "Administrative_Duration  12330.0    80.818611   176.779107  0.0    0.000000   \n",
       "Informational            12330.0     0.503569     1.270156  0.0    0.000000   \n",
       "Informational_Duration   12330.0    34.472398   140.749294  0.0    0.000000   \n",
       "ProductRelated           12330.0    31.731468    44.475503  0.0    7.000000   \n",
       "ProductRelated_Duration  12330.0  1194.746220  1913.669288  0.0  184.137500   \n",
       "BounceRates              12330.0     0.022191     0.048488  0.0    0.000000   \n",
       "ExitRates                12330.0     0.043073     0.048597  0.0    0.014286   \n",
       "PageValues               12330.0     5.889258    18.568437  0.0    0.000000   \n",
       "SpecialDay               12330.0     0.061427     0.198917  0.0    0.000000   \n",
       "OperatingSystems         12330.0     2.124006     0.911325  1.0    2.000000   \n",
       "Browser                  12330.0     2.357097     1.717277  1.0    2.000000   \n",
       "Region                   12330.0     3.147364     2.401591  1.0    1.000000   \n",
       "TrafficType              12330.0     4.069586     4.025169  1.0    2.000000   \n",
       "\n",
       "                                50%          75%           max  \n",
       "Administrative             1.000000     4.000000     27.000000  \n",
       "Administrative_Duration    7.500000    93.256250   3398.750000  \n",
       "Informational              0.000000     0.000000     24.000000  \n",
       "Informational_Duration     0.000000     0.000000   2549.375000  \n",
       "ProductRelated            18.000000    38.000000    705.000000  \n",
       "ProductRelated_Duration  598.936905  1464.157213  63973.522230  \n",
       "BounceRates                0.003112     0.016813      0.200000  \n",
       "ExitRates                  0.025156     0.050000      0.200000  \n",
       "PageValues                 0.000000     0.000000    361.763742  \n",
       "SpecialDay                 0.000000     0.000000      1.000000  \n",
       "OperatingSystems           2.000000     3.000000      8.000000  \n",
       "Browser                    2.000000     2.000000     13.000000  \n",
       "Region                     3.000000     4.000000      9.000000  \n",
       "TrafficType                2.000000     4.000000     20.000000  "
      ]
     },
     "execution_count": 7,
     "metadata": {},
     "output_type": "execute_result"
    }
   ],
   "source": [
    "data.describe().T #Look for distribution of  numerical variables on data"
   ]
  },
  {
   "cell_type": "markdown",
   "metadata": {},
   "source": [
    "According to feature descriptions, there are 10 numerical variables, 8 categorical variables but the data shows that there are 14 numerical variables and 4 categorical variables. This situation will be checked. Then, some columns will be converted to categorical variables if it is decided that they appear in the data as numeric, although they are actually categorical columns.  "
   ]
  },
  {
   "cell_type": "code",
   "execution_count": 8,
   "metadata": {
    "colab": {
     "base_uri": "https://localhost:8080/"
    },
    "id": "WhTXRixrNFAq",
    "outputId": "922eb0b0-762f-47c0-e688-8168aa2e14c2"
   },
   "outputs": [
    {
     "name": "stdout",
     "output_type": "stream",
     "text": [
      "Numeric:  ['Administrative', 'Administrative_Duration', 'Informational', 'Informational_Duration', 'ProductRelated', 'ProductRelated_Duration', 'BounceRates', 'ExitRates', 'PageValues', 'SpecialDay', 'OperatingSystems', 'Browser', 'Region', 'TrafficType'] \n",
      "\n",
      "Categoric:  ['Month', 'VisitorType', 'Weekend', 'Revenue']\n"
     ]
    }
   ],
   "source": [
    "num = data.select_dtypes(exclude=['object', 'bool']).columns #Numerical variables assigned to num object\n",
    "cat = data.select_dtypes(include=['object','bool']).columns  #Categorical variables assigned to cat object\n",
    "\n",
    "print('Numeric: ', list(num) , '\\n\\nCategoric: ', list(cat))  #Print list of numerical variables and categorical variables"
   ]
  },
  {
   "cell_type": "code",
   "execution_count": 9,
   "metadata": {
    "colab": {
     "base_uri": "https://localhost:8080/"
    },
    "id": "OrAm87lqNFAq",
    "outputId": "bc0a92bd-52a2-4b3d-bac7-c7bc3a2f6e9c"
   },
   "outputs": [
    {
     "name": "stdout",
     "output_type": "stream",
     "text": [
      "OperatingSystems : [1 2 4 3 7 6 8 5]\n",
      "Browser : [ 1  2  3  4  5  6  7 10  8  9 12 13 11]\n",
      "Region : [1 9 2 3 4 5 6 7 8]\n",
      "TrafficType : [ 1  2  3  4  5  6  7  8  9 10 11 12 13 14 15 18 19 16 17 20]\n"
     ]
    }
   ],
   "source": [
    "arr = ['OperatingSystems', 'Browser', 'Region', 'TrafficType'] # These four variables appear to be numeric on the data,  \n",
    "#but their values are checked because they appear as categorical variables in the data feature description. \n",
    "\n",
    "for i in arr:\n",
    "    print('{} : {}'.format(i, data[i].unique()))"
   ]
  },
  {
   "cell_type": "code",
   "execution_count": 10,
   "metadata": {
    "id": "xXYrbewcNFAr"
   },
   "outputs": [],
   "source": [
    "for i in arr:\n",
    "    data[i] = data[i].astype('object') #These four variables are converted into categorical variables."
   ]
  },
  {
   "cell_type": "code",
   "execution_count": 11,
   "metadata": {
    "colab": {
     "base_uri": "https://localhost:8080/"
    },
    "id": "DIM_OV7RNFAs",
    "outputId": "a64d7108-b21b-4084-ea8e-65b92b73317a"
   },
   "outputs": [
    {
     "name": "stdout",
     "output_type": "stream",
     "text": [
      "<class 'pandas.core.frame.DataFrame'>\n",
      "RangeIndex: 12330 entries, 0 to 12329\n",
      "Data columns (total 18 columns):\n",
      "Administrative             12330 non-null int64\n",
      "Administrative_Duration    12330 non-null float64\n",
      "Informational              12330 non-null int64\n",
      "Informational_Duration     12330 non-null float64\n",
      "ProductRelated             12330 non-null int64\n",
      "ProductRelated_Duration    12330 non-null float64\n",
      "BounceRates                12330 non-null float64\n",
      "ExitRates                  12330 non-null float64\n",
      "PageValues                 12330 non-null float64\n",
      "SpecialDay                 12330 non-null float64\n",
      "Month                      12330 non-null object\n",
      "OperatingSystems           12330 non-null object\n",
      "Browser                    12330 non-null object\n",
      "Region                     12330 non-null object\n",
      "TrafficType                12330 non-null object\n",
      "VisitorType                12330 non-null object\n",
      "Weekend                    12330 non-null bool\n",
      "Revenue                    12330 non-null bool\n",
      "dtypes: bool(2), float64(7), int64(3), object(6)\n",
      "memory usage: 1.5+ MB\n"
     ]
    }
   ],
   "source": [
    "data.info()  #Get the general information of data to check these four variables' types"
   ]
  },
  {
   "cell_type": "code",
   "execution_count": 12,
   "metadata": {},
   "outputs": [
    {
     "data": {
      "text/plain": [
       "Index(['Administrative', 'Administrative_Duration', 'Informational',\n",
       "       'Informational_Duration', 'ProductRelated', 'ProductRelated_Duration',\n",
       "       'BounceRates', 'ExitRates', 'PageValues', 'SpecialDay'],\n",
       "      dtype='object')"
      ]
     },
     "execution_count": 12,
     "metadata": {},
     "output_type": "execute_result"
    }
   ],
   "source": [
    "num = data.select_dtypes(exclude=['object', 'bool']).columns #Numerical variables reassigned to num object since numerical variables updated.\n",
    "num"
   ]
  },
  {
   "cell_type": "code",
   "execution_count": 13,
   "metadata": {
    "colab": {
     "base_uri": "https://localhost:8080/"
    },
    "id": "8u-CWNWgNFAs",
    "outputId": "d1e1b3b1-f41c-42ba-d2df-d6f44836f4aa"
   },
   "outputs": [
    {
     "name": "stdout",
     "output_type": "stream",
     "text": [
      "Total missing values for each column : Administrative             0\n",
      "Administrative_Duration    0\n",
      "Informational              0\n",
      "Informational_Duration     0\n",
      "ProductRelated             0\n",
      "ProductRelated_Duration    0\n",
      "BounceRates                0\n",
      "ExitRates                  0\n",
      "PageValues                 0\n",
      "SpecialDay                 0\n",
      "Month                      0\n",
      "OperatingSystems           0\n",
      "Browser                    0\n",
      "Region                     0\n",
      "TrafficType                0\n",
      "VisitorType                0\n",
      "Weekend                    0\n",
      "Revenue                    0\n",
      "dtype: int64\n"
     ]
    }
   ],
   "source": [
    "print(\"Total missing values for each column :\", data.isna().sum())  #Check for missing values for each column."
   ]
  },
  {
   "cell_type": "markdown",
   "metadata": {},
   "source": [
    "### Exploratory Data Analysis"
   ]
  },
  {
   "cell_type": "markdown",
   "metadata": {},
   "source": [
    "In this section, we will try to understand more while trying to visualize the data. Firstly, the relations between the numerical data were examined with the correlation analysis. According to the correlation table, while PageValues was the variable with the strongest correlation between numerical data, it was observed that the negatively correlated ExitRates variable was an important variable for Revenue result with a correlation value of -0.207. Then, the relations of the numerical data with the target function are listed from most positive to most negative one. In next steps, there are distributions of 8 categorical variables. For Revenue column, it can be observed that it is unbalanced data. Another standout point is that it is very unlikely that the page is visited and transaction completion on special days while the number of visits and transaction completions is much higher when it is away from special days. Also, a major part of visits ended with transactions belong to weekday."
   ]
  },
  {
   "cell_type": "markdown",
   "metadata": {
    "id": "ryZ-gJ4DNFAt"
   },
   "source": [
    "#### Analysis of Correlation"
   ]
  },
  {
   "cell_type": "code",
   "execution_count": 14,
   "metadata": {
    "colab": {
     "base_uri": "https://localhost:8080/",
     "height": 53
    },
    "id": "R5PPi19sNFAv",
    "outputId": "3d930c8a-cb5c-4440-e1d4-37fc9c0d0569"
   },
   "outputs": [
    {
     "data": {
      "image/png": "[encoded data removed]",
      "text/plain": [
       "<Figure size 864x864 with 2 Axes>"
      ]
     },
     "metadata": {
      "needs_background": "light"
     },
     "output_type": "display_data"
    }
   ],
   "source": [
    "matrix = np.triu(data.corr())\n",
    "fig, ax = plt.subplots(figsize=(12,12))\n",
    "sns.heatmap(data.corr(), annot=True, ax=ax, fmt='.1g', vmin=-1, vmax=1, center= 0, mask=matrix, cmap='RdBu_r')\n",
    "plt.show()  #Correlation analysis with specialized heatmap parameters for numerical variables "
   ]
  },
  {
   "cell_type": "code",
   "execution_count": 15,
   "metadata": {
    "colab": {
     "base_uri": "https://localhost:8080/"
    },
    "id": "fRMOT6KjNFAw",
    "outputId": "37e6a59c-1fac-4288-a3d3-7489ec9d7dfc"
   },
   "outputs": [
    {
     "data": {
      "text/plain": [
       "Revenue                    1.000000\n",
       "PageValues                 0.492569\n",
       "ProductRelated             0.158538\n",
       "ProductRelated_Duration    0.152373\n",
       "Administrative             0.138917\n",
       "Informational              0.095200\n",
       "Administrative_Duration    0.093587\n",
       "Informational_Duration     0.070345\n",
       "Weekend                    0.029295\n",
       "SpecialDay                -0.082305\n",
       "BounceRates               -0.150673\n",
       "ExitRates                 -0.207071\n",
       "Name: Revenue, dtype: float64"
      ]
     },
     "execution_count": 15,
     "metadata": {},
     "output_type": "execute_result"
    }
   ],
   "source": [
    "data.corr()['Revenue'].sort_values(ascending=False) #Sorting the correlation from the most positive to the most negative according to target column(Revenue)"
   ]
  },
  {
   "cell_type": "markdown",
   "metadata": {
    "id": "d_CCjTWRNFAx"
   },
   "source": [
    "#### Analysis of Categorical Values"
   ]
  },
  {
   "cell_type": "code",
   "execution_count": 16,
   "metadata": {
    "colab": {
     "base_uri": "https://localhost:8080/",
     "height": 105
    },
    "id": "SuWd2mtrNFAx",
    "outputId": "a0649993-0f4f-46ee-9e7b-5c8f81e86f52"
   },
   "outputs": [
    {
     "data": {
      "text/plain": [
       "<matplotlib.axes._subplots.AxesSubplot at 0x21afe421688>"
      ]
     },
     "execution_count": 16,
     "metadata": {},
     "output_type": "execute_result"
    },
    {
     "data": {
      "image/png": "[encoded data removed]",
      "text/plain": [
       "<Figure size 1008x1008 with 8 Axes>"
      ]
     },
     "metadata": {
      "needs_background": "light"
     },
     "output_type": "display_data"
    }
   ],
   "source": [
    "fig, ax = plt.subplots(4,2, figsize=(14,14)) #Create 8 visualizations for (4,2)\n",
    "fig.tight_layout(pad=2)\n",
    "\n",
    "sns.countplot(data['Revenue'], palette='dark', ax = ax[0,0])           #The distribution of Revenue column with countplot\n",
    "sns.countplot(data['Month'], palette='dark', ax = ax[0,1])             #The distribution of Month column with countplot\n",
    "sns.countplot(data['OperatingSystems'], palette='dark', ax = ax[1,0])  #The distribution of OperatingSystems column with countplot\n",
    "sns.countplot(data['Browser'], palette='dark', ax = ax[1,1])           #The distribution of Browser column with countplot\n",
    "sns.countplot(data['Region'], palette='dark', ax = ax[2,0])            #The distribution of Region column with countplot\n",
    "sns.countplot(data['TrafficType'], palette='dark', ax = ax[2,1])       #The distribution of TrafficType column with countplot\n",
    "sns.countplot(data['VisitorType'], palette='dark', ax = ax[3,0])       #The distribution of VisitorType column with countplot\n",
    "sns.countplot(data['Weekend'], palette='dark', ax = ax[3,1])           #The distribution of Weekend column with countplot"
   ]
  },
  {
   "cell_type": "code",
   "execution_count": 17,
   "metadata": {
    "colab": {
     "base_uri": "https://localhost:8080/",
     "height": 53
    },
    "id": "yOrxbaeRNFAy",
    "outputId": "8246e8f0-de4f-4350-a140-ad6031f430a7"
   },
   "outputs": [
    {
     "data": {
      "image/png": "[encoded data removed]",
      "text/plain": [
       "<Figure size 962.125x900 with 30 Axes>"
      ]
     },
     "metadata": {
      "needs_background": "light"
     },
     "output_type": "display_data"
    }
   ],
   "source": [
    "g1 = sns.pairplot(data[['PageValues', 'ProductRelated', 'Administrative', 'Informational', 'Revenue']], hue='Revenue')\n",
    "g1.fig.suptitle('Feature Relations')\n",
    "plt.show()  #Show feature relationships with Revenue column which is selected as color coding"
   ]
  },
  {
   "cell_type": "markdown",
   "metadata": {
    "id": "krre2cWiNFAz"
   },
   "source": [
    "#### Analysis of Web Pages"
   ]
  },
  {
   "cell_type": "code",
   "execution_count": 18,
   "metadata": {
    "colab": {
     "base_uri": "https://localhost:8080/",
     "height": 0
    },
    "id": "EMS9BxCPNFAz",
    "outputId": "b927e2a4-e656-416a-f848-2893b2fb265b"
   },
   "outputs": [
    {
     "data": {
      "image/png": "[encoded data removed]",
      "text/plain": [
       "<Figure size 864x864 with 6 Axes>"
      ]
     },
     "metadata": {
      "needs_background": "light"
     },
     "output_type": "display_data"
    }
   ],
   "source": [
    "fig = plt.figure(figsize=(12, 12))\n",
    "\n",
    "ax1 = fig.add_subplot(2, 3, 1)\n",
    "ax2 = fig.add_subplot(2, 3, 2)\n",
    "ax3 = fig.add_subplot(2, 3, 3)\n",
    "ax4 = fig.add_subplot(2, 3, 4)\n",
    "ax5 = fig.add_subplot(2, 3, 5)\n",
    "ax6 = fig.add_subplot(2, 3, 6)\n",
    "\n",
    "sns.violinplot(data=data, x = 'Revenue', y = 'Administrative', ax=ax1)       #Assign Revenue-Administrative relationship thanks to violinplot to the subplot(2, 3, 1)\n",
    "sns.violinplot(data=data, x = 'Revenue', y = 'Informational', ax=ax2)        #Assign Revenue-Informational relationship thanks to violinplot to the subplot(2, 3, 2)\n",
    "sns.violinplot(data=data, x = 'Revenue', y = 'ProductRelated', ax=ax3)       #Assign Revenue-ProductRelated relationship thanks to violinplot to the subplot(2, 3, 3)\n",
    "sns.boxplot(data=data, x = 'Revenue', y = 'Administrative_Duration', ax=ax4) #Assign Revenue-Administrative_Duration relationship thanks to boxplot to the subplot(2, 3, 4)\n",
    "sns.boxplot(data=data, x = 'Revenue', y = 'Informational_Duration', ax=ax5)  #Assign Revenue-Informational_Duration relationship thanks to boxplot to the subplot(2, 3, 5)\n",
    "sns.boxplot(data=data, x = 'Revenue', y = 'ProductRelated_Duration', ax=ax6) #Assign Revenue-ProductRelated_Duration relationship thanks to boxplot to the subplot(2, 3, 6)\n",
    "\n",
    "plt.tight_layout()\n",
    "plt.show()    #Show all these 6 graphs"
   ]
  },
  {
   "cell_type": "markdown",
   "metadata": {
    "id": "yA4B6RsYNFA0"
   },
   "source": [
    "#### Analysis of Page Metrics"
   ]
  },
  {
   "cell_type": "code",
   "execution_count": 19,
   "metadata": {
    "colab": {
     "base_uri": "https://localhost:8080/",
     "height": 0
    },
    "id": "G2mV5qswNFA1",
    "outputId": "4efe0d92-7932-41d7-e2c4-181072c01ef5"
   },
   "outputs": [
    {
     "data": {
      "image/png": "[encoded data removed]",
      "text/plain": [
       "<Figure size 1152x288 with 3 Axes>"
      ]
     },
     "metadata": {
      "needs_background": "light"
     },
     "output_type": "display_data"
    }
   ],
   "source": [
    "fig = plt.figure(figsize=(16, 4))\n",
    "\n",
    "ax1 = fig.add_subplot(1, 3, 1)\n",
    "ax2 = fig.add_subplot(1, 3, 2)\n",
    "ax3 = fig.add_subplot(1, 3, 3)\n",
    "\n",
    "sns.distplot(data['BounceRates'], bins=20, ax=ax1) #The distribution of BounceRates column with distplot\n",
    "sns.distplot(data['ExitRates'], bins=20, ax=ax2)   #The distribution of ExitRates column with distplot\n",
    "sns.distplot(data['PageValues'], bins=20, ax=ax3)  #The distribution of PageValues column with distplot\n",
    "\n",
    "plt.tight_layout()\n",
    "plt.show()   #Show all these 3 graphs"
   ]
  },
  {
   "cell_type": "markdown",
   "metadata": {
    "id": "_iPRK0UfNFA1"
   },
   "source": [
    "#### Analysis of Visitor"
   ]
  },
  {
   "cell_type": "code",
   "execution_count": 20,
   "metadata": {
    "colab": {
     "base_uri": "https://localhost:8080/",
     "height": 0
    },
    "id": "ZWfrPxNzNFA2",
    "outputId": "493f6856-c10d-48a8-d914-6531c93b3753"
   },
   "outputs": [
    {
     "data": {
      "image/png": "[encoded data removed]",
      "text/plain": [
       "<Figure size 1296x432 with 4 Axes>"
      ]
     },
     "metadata": {
      "needs_background": "light"
     },
     "output_type": "display_data"
    }
   ],
   "source": [
    "fig = plt.figure(figsize=(18, 6))\n",
    "\n",
    "ax1 = fig.add_subplot(2, 2, 1)\n",
    "ax2 = fig.add_subplot(2, 2, 2)\n",
    "ax3 = fig.add_subplot(2, 2, 3)\n",
    "ax4 = fig.add_subplot(2, 2, 4)\n",
    "\n",
    "sns.countplot(data=data, x='OperatingSystems', hue='VisitorType', ax=ax1) #Distribution of OperatingSystems according to VisitorType\n",
    "sns.countplot(data=data, x='Browser', hue='VisitorType', ax=ax2)          #Distribution of Browser according to VisitorType\n",
    "sns.countplot(data=data, x='Region', hue='VisitorType', ax=ax3)           #Distribution of Region according to VisitorType\n",
    "sns.countplot(data=data, x='TrafficType', hue='VisitorType', ax=ax4)      #Distribution of TrafficType according to VisitorType\n",
    "\n",
    "ax1.legend(loc='upper right')   #What the visitor type values correspond to is shown at the upper right for the first graph\n",
    "ax2.legend(loc='upper right')   #What the visitor type values correspond to is shown at the upper right for the second graph\n",
    "ax3.legend(loc='upper right')   #What the visitor type values correspond to is shown at the upper right for the third graph\n",
    "ax4.legend(loc='upper right')   #What the visitor type values correspond to is shown at the upper right for the fourth graph\n",
    "plt.tight_layout()\n",
    "plt.show()   #Show all these 4 graphs"
   ]
  },
  {
   "cell_type": "markdown",
   "metadata": {
    "id": "Y4kdh0TxNFA2"
   },
   "source": [
    "#### Analysis of Visit Date"
   ]
  },
  {
   "cell_type": "code",
   "execution_count": 21,
   "metadata": {
    "colab": {
     "base_uri": "https://localhost:8080/",
     "height": 0
    },
    "id": "ZNdPu0CNNFA2",
    "outputId": "f43027b5-f41b-4b80-b3e3-9588f7188e5b"
   },
   "outputs": [
    {
     "data": {
      "image/png": "[encoded data removed]",
      "text/plain": [
       "<Figure size 1296x864 with 2 Axes>"
      ]
     },
     "metadata": {
      "needs_background": "light"
     },
     "output_type": "display_data"
    }
   ],
   "source": [
    "fig = plt.figure(figsize=(18, 12))\n",
    "\n",
    "ax1 = fig.add_subplot(2, 1, 1)\n",
    "ax2 = fig.add_subplot(2, 1, 2)\n",
    "\n",
    "orderlist = ['Jan','Feb','Mar','Apr','May','June','Jul','Aug','Sep','Oct','Nov','Dec']\n",
    "sns.countplot(data=data, x='Month', hue='Revenue', ax=ax1, order=orderlist) #Month and Revenue distribution with countplot according to the specified orderlist\n",
    "sns.countplot(data=data, x='SpecialDay', hue='Revenue', ax=ax2)             #SpecialDay and Revenue distribution with countplot\n",
    "\n",
    "plt.tight_layout()\n",
    "plt.show()   #Show all these 2 graphs"
   ]
  },
  {
   "cell_type": "code",
   "execution_count": 22,
   "metadata": {
    "colab": {
     "base_uri": "https://localhost:8080/",
     "height": 0
    },
    "id": "ioMAUqesNFA3",
    "outputId": "0922bdd9-58ac-4b08-e6b0-6d0f85e3737c"
   },
   "outputs": [
    {
     "data": {
      "image/png": "[encoded data removed]",
      "text/plain": [
       "<Figure size 720x360 with 1 Axes>"
      ]
     },
     "metadata": {
      "needs_background": "light"
     },
     "output_type": "display_data"
    }
   ],
   "source": [
    "specialDay_data = data.groupby(['Month'])[['SpecialDay']].agg('sum') # The distribution of total SpecialDays sale according to Month\n",
    "graph = specialDay_data.unstack().plot(kind='bar', figsize=(10,5))\n",
    "plt.xticks(np.arange(10), sorted(data.Month.unique()), rotation=0)\n",
    "graph.set_xlabel('Month')             #Name for x axis\n",
    "graph.set_ylabel('Special Day Sale')  #Name for y axis\n",
    "plt.show()                            #Show bar graph"
   ]
  },
  {
   "cell_type": "code",
   "execution_count": 23,
   "metadata": {
    "colab": {
     "base_uri": "https://localhost:8080/",
     "height": 0
    },
    "id": "2J0rcj-ONFA3",
    "outputId": "1e28d287-5b1f-466c-a78f-b7debe74bb6b"
   },
   "outputs": [
    {
     "data": {
      "image/png": "[encoded data removed]",
      "text/plain": [
       "<Figure size 864x432 with 2 Axes>"
      ]
     },
     "metadata": {},
     "output_type": "display_data"
    }
   ],
   "source": [
    "fig, ax = plt.subplots(1, 2,figsize=(12, 6), subplot_kw=dict(aspect=\"equal\"))\n",
    "ax[0].pie(data['Weekend'].value_counts(),explode=(0.1,0),labels=['Weekday','Weekend'], autopct='%1.0f%%') #Comparison of the count of total weekend values and total weekday values in the pie chart\n",
    "ax[0].set_title('Weekend vs. Weekday (Total Visits)')   #First \n",
    "ax[1].pie(data[data['Revenue'] == 1]['Weekend'].value_counts(),explode=(0.1,0),labels=['Weekday','Weekend'], autopct='%1.0f%%')\n",
    "ax[1].set_title('Weekend vs. Weekday (Only Visits Ended with Transactions)')\n",
    "plt.show()"
   ]
  },
  {
   "cell_type": "markdown",
   "metadata": {},
   "source": [
    "### Data Pre-processing"
   ]
  },
  {
   "cell_type": "markdown",
   "metadata": {
    "id": "H3xTWL0Cwd9l"
   },
   "source": [
    "#### Outlier"
   ]
  },
  {
   "cell_type": "markdown",
   "metadata": {},
   "source": [
    "In this section, outliers will be checked and for this process, IQR method is chosen. Outlier detection was tried to be performed using the first (0.25) and third (0.75) quartiles with the IQR (Interquartile range) method but any outlier could not be obtained due to the distribution of the data. The third quartile would be increased instead of 0.75, however, not deleting the outlier seemed like a better way to get good results."
   ]
  },
  {
   "cell_type": "code",
   "execution_count": 24,
   "metadata": {},
   "outputs": [
    {
     "data": {
      "text/plain": [
       "count    12330.000000\n",
       "mean         2.315166\n",
       "std          3.321784\n",
       "min          0.000000\n",
       "1%           0.000000\n",
       "10%          0.000000\n",
       "20%          0.000000\n",
       "30%          0.000000\n",
       "40%          0.000000\n",
       "50%          1.000000\n",
       "60%          2.000000\n",
       "70%          3.000000\n",
       "80%          4.000000\n",
       "90%          7.000000\n",
       "95%          9.000000\n",
       "99%         14.000000\n",
       "max         27.000000\n",
       "Name: Administrative, dtype: float64"
      ]
     },
     "execution_count": 24,
     "metadata": {},
     "output_type": "execute_result"
    }
   ],
   "source": [
    "data.Administrative.describe([.01,.1,.2,.3,.4,.5,.6,.7,.8,.9,.95,.99]) #Check outliers for Administrative column "
   ]
  },
  {
   "cell_type": "code",
   "execution_count": 25,
   "metadata": {
    "colab": {
     "base_uri": "https://localhost:8080/"
    },
    "id": "7Bky7uRIoTgH",
    "outputId": "216dd8a3-9268-464f-ac00-bcd88fc32232"
   },
   "outputs": [
    {
     "data": {
      "text/plain": [
       "(12330, 18)"
      ]
     },
     "execution_count": 25,
     "metadata": {},
     "output_type": "execute_result"
    }
   ],
   "source": [
    "q1_adm=np.quantile(data.Administrative,0.25)                                        #Determine Q1\n",
    "q3_adm=np.quantile(data.Administrative,0.75)                                        #Determine Q1\n",
    "iqr_adm=q3_adm-q1_adm                                                               #Calculate IQR\n",
    "low_level = q1_adm-(1.5*iqr_adm)                                                    #Lower bound\n",
    "up_lowel = q3_adm+(1.5*iqr_adm)                                                     #Upper bound\n",
    "data1=data[~(data.Administrative<low_level) | (data.Administrative>up_lowel)]       #Try to delete outliers\n",
    "data1.shape                                                                         #Final data shape"
   ]
  },
  {
   "cell_type": "code",
   "execution_count": 26,
   "metadata": {},
   "outputs": [
    {
     "data": {
      "text/plain": [
       "count    12330.000000\n",
       "mean        80.818611\n",
       "std        176.779107\n",
       "min          0.000000\n",
       "1%           0.000000\n",
       "10%          0.000000\n",
       "20%          0.000000\n",
       "30%          0.000000\n",
       "40%          0.000000\n",
       "50%          7.500000\n",
       "60%         37.000000\n",
       "70%         71.200000\n",
       "80%        121.425000\n",
       "90%        224.887500\n",
       "99%        830.587041\n",
       "max       3398.750000\n",
       "Name: Administrative_Duration, dtype: float64"
      ]
     },
     "execution_count": 26,
     "metadata": {},
     "output_type": "execute_result"
    }
   ],
   "source": [
    "data.Administrative_Duration.describe([.01,.1,.2,.3,.4,.5,.6,.7,.8,.9,.99]) #Check outliers for Administrative_Duration column "
   ]
  },
  {
   "cell_type": "code",
   "execution_count": 27,
   "metadata": {
    "colab": {
     "base_uri": "https://localhost:8080/"
    },
    "id": "7Bky7uRIoTgH",
    "outputId": "216dd8a3-9268-464f-ac00-bcd88fc32232"
   },
   "outputs": [
    {
     "data": {
      "text/plain": [
       "(12330, 18)"
      ]
     },
     "execution_count": 27,
     "metadata": {},
     "output_type": "execute_result"
    }
   ],
   "source": [
    "q1_adm=np.quantile(data.Administrative_Duration,0.25)                                        #Determine Q1\n",
    "q3_adm=np.quantile(data.Administrative_Duration,0.75)                                        #Determine Q3\n",
    "iqr_adm=q3_adm-q1_adm                                                                        #Calculate IQR\n",
    "low_level = q1_adm-(1.5*iqr_adm)                                                             #Lower bound\n",
    "up_lowel = q3_adm+(1.5*iqr_adm)                                                              #Upper bound\n",
    "data1=data[~(data.Administrative_Duration<low_level)|(data.Administrative_Duration>up_lowel)]#Try to delete outliers\n",
    "data1.shape                                                                                  #Final data shape"
   ]
  },
  {
   "cell_type": "code",
   "execution_count": 28,
   "metadata": {},
   "outputs": [
    {
     "data": {
      "text/plain": [
       "count    12330.000000\n",
       "mean         0.503569\n",
       "std          1.270156\n",
       "min          0.000000\n",
       "1%           0.000000\n",
       "10%          0.000000\n",
       "20%          0.000000\n",
       "30%          0.000000\n",
       "40%          0.000000\n",
       "50%          0.000000\n",
       "60%          0.000000\n",
       "70%          0.000000\n",
       "80%          1.000000\n",
       "90%          2.000000\n",
       "99%          6.000000\n",
       "max         24.000000\n",
       "Name: Informational, dtype: float64"
      ]
     },
     "execution_count": 28,
     "metadata": {},
     "output_type": "execute_result"
    }
   ],
   "source": [
    "data.Informational.describe([.01,.1,.2,.3,.4,.5,.6,.7,.8,.9,.99]) #Check outliers for Informational column "
   ]
  },
  {
   "cell_type": "code",
   "execution_count": 29,
   "metadata": {
    "colab": {
     "base_uri": "https://localhost:8080/"
    },
    "id": "vl5GAsuusFd_",
    "outputId": "c77f20ab-c8ea-435e-ebca-a885eb779536"
   },
   "outputs": [
    {
     "data": {
      "text/plain": [
       "(12330, 18)"
      ]
     },
     "execution_count": 29,
     "metadata": {},
     "output_type": "execute_result"
    }
   ],
   "source": [
    "q1_inf=np.quantile(data.Informational,0.25)                                  #Determine Q1\n",
    "q3_inf=np.quantile(data.Informational,0.75)                                  #Determine Q3\n",
    "iqr_inf=q3_inf-q1_inf                                                        #Calculate IQR\n",
    "low_level = q1_inf-(1.5*iqr_inf)                                             #Lower bound\n",
    "up_lowel = q3_inf+(1.5*iqr_inf)                                              #Upper bound\n",
    "data1=data[~(data.Informational<low_level) | (data.Informational>up_lowel)]  #Try to delete outliers\n",
    "data1.shape                                                                  #Final data shape"
   ]
  },
  {
   "cell_type": "code",
   "execution_count": 30,
   "metadata": {},
   "outputs": [
    {
     "data": {
      "text/plain": [
       "count    12330.000000\n",
       "mean        34.472398\n",
       "std        140.749294\n",
       "min          0.000000\n",
       "1%           0.000000\n",
       "10%          0.000000\n",
       "20%          0.000000\n",
       "30%          0.000000\n",
       "40%          0.000000\n",
       "50%          0.000000\n",
       "60%          0.000000\n",
       "70%          0.000000\n",
       "80%          0.000000\n",
       "90%         72.000000\n",
       "99%        716.390000\n",
       "max       2549.375000\n",
       "Name: Informational_Duration, dtype: float64"
      ]
     },
     "execution_count": 30,
     "metadata": {},
     "output_type": "execute_result"
    }
   ],
   "source": [
    "data.Informational_Duration.describe([.01,.1,.2,.3,.4,.5,.6,.7,.8,.9,.99])   #Check outliers for Informational_Duration column "
   ]
  },
  {
   "cell_type": "code",
   "execution_count": 31,
   "metadata": {
    "colab": {
     "base_uri": "https://localhost:8080/"
    },
    "id": "vl5GAsuusFd_",
    "outputId": "c77f20ab-c8ea-435e-ebca-a885eb779536"
   },
   "outputs": [
    {
     "data": {
      "text/plain": [
       "(12330, 18)"
      ]
     },
     "execution_count": 31,
     "metadata": {},
     "output_type": "execute_result"
    }
   ],
   "source": [
    "q1_inf=np.quantile(data.Informational_Duration,0.25)                                            #Determine Q1\n",
    "q3_inf=np.quantile(data.Informational_Duration,0.75)                                            #Determine Q3\n",
    "iqr_inf=q3_inf-q1_inf                                                                           #Calculate IQR\n",
    "low_level = q1_inf-(1.5*iqr_inf)                                                                #Lower bound\n",
    "up_lowel = q3_inf+(1.5*iqr_inf)                                                                 #Upper bound\n",
    "data1=data[~(data.Informational_Duration<low_level) | (data.Informational_Duration>up_lowel)]   #Try to delete outliers\n",
    "data1.shape                                                                                     #Final data shape"
   ]
  },
  {
   "cell_type": "code",
   "execution_count": 32,
   "metadata": {
    "id": "7eVj78KMwbtn"
   },
   "outputs": [
    {
     "data": {
      "text/plain": [
       "count    12330.000000\n",
       "mean        31.731468\n",
       "std         44.475503\n",
       "min          0.000000\n",
       "1%           1.000000\n",
       "10%          3.000000\n",
       "20%          6.000000\n",
       "30%          9.000000\n",
       "40%         13.000000\n",
       "50%         18.000000\n",
       "60%         24.000000\n",
       "70%         32.000000\n",
       "80%         45.000000\n",
       "90%         74.000000\n",
       "99%        221.000000\n",
       "max        705.000000\n",
       "Name: ProductRelated, dtype: float64"
      ]
     },
     "execution_count": 32,
     "metadata": {},
     "output_type": "execute_result"
    }
   ],
   "source": [
    "data.ProductRelated.describe([.01,.1,.2,.3,.4,.5,.6,.7,.8,.9,.99])   #Check outliers for ProductRelated column "
   ]
  },
  {
   "cell_type": "code",
   "execution_count": 33,
   "metadata": {
    "colab": {
     "base_uri": "https://localhost:8080/"
    },
    "id": "CZFklv_dsFsJ",
    "outputId": "04e663d8-426f-411c-e61f-8ac938c8f153"
   },
   "outputs": [
    {
     "data": {
      "text/plain": [
       "(12330, 18)"
      ]
     },
     "execution_count": 33,
     "metadata": {},
     "output_type": "execute_result"
    }
   ],
   "source": [
    "q1_prd=np.quantile(data.ProductRelated,0.25)                                            #Determine Q1\n",
    "q3_prd=np.quantile(data.ProductRelated,0.75)                                            #Determine Q3\n",
    "iqr_prd=q3_prd-q1_prd                                                                   #Calculate IQR\n",
    "low_level = q1_prd-(1.5*iqr_prd)                                                        #Lower bound\n",
    "up_lowel = q3_prd+(1.5*iqr_prd)                                                         #Upper bound\n",
    "data1=data[~(data.ProductRelated<low_level) | (data.ProductRelated>up_lowel)]           #Try to delete outliers\n",
    "data1.shape                                                                             #Final data shape"
   ]
  },
  {
   "cell_type": "code",
   "execution_count": 34,
   "metadata": {
    "id": "7eVj78KMwbtn"
   },
   "outputs": [
    {
     "data": {
      "text/plain": [
       "count    12330.000000\n",
       "mean      1194.746220\n",
       "std       1913.669288\n",
       "min          0.000000\n",
       "1%           0.000000\n",
       "10%         36.000000\n",
       "20%        129.000000\n",
       "30%        246.980000\n",
       "40%        402.117216\n",
       "50%        598.936905\n",
       "60%        852.000000\n",
       "70%       1227.014167\n",
       "80%       1775.928667\n",
       "90%       2877.863333\n",
       "99%       8701.142697\n",
       "max      63973.522230\n",
       "Name: ProductRelated_Duration, dtype: float64"
      ]
     },
     "execution_count": 34,
     "metadata": {},
     "output_type": "execute_result"
    }
   ],
   "source": [
    "data.ProductRelated_Duration.describe([.01,.1,.2,.3,.4,.5,.6,.7,.8,.9,.99])   #Check outliers for ProductRelated_Duration column "
   ]
  },
  {
   "cell_type": "code",
   "execution_count": 35,
   "metadata": {
    "colab": {
     "base_uri": "https://localhost:8080/"
    },
    "id": "CZFklv_dsFsJ",
    "outputId": "04e663d8-426f-411c-e61f-8ac938c8f153"
   },
   "outputs": [
    {
     "data": {
      "text/plain": [
       "(12330, 18)"
      ]
     },
     "execution_count": 35,
     "metadata": {},
     "output_type": "execute_result"
    }
   ],
   "source": [
    "q1_prd=np.quantile(data.ProductRelated_Duration,0.25)                                            #Determine Q1\n",
    "q3_prd=np.quantile(data.ProductRelated_Duration,0.75)                                            #Determine Q3\n",
    "iqr_prd=q3_prd-q1_prd                                                                            #Calculate IQR\n",
    "low_level = q1_prd-(1.5*iqr_prd)                                                                 #Lower bound\n",
    "up_lowel = q3_prd+(1.5*iqr_prd)                                                                  #Upper bound\n",
    "data1=data[~(data.ProductRelated_Duration<low_level) | (data.ProductRelated_Duration>up_lowel)]  #Try to delete outliers\n",
    "data1.shape                                                                                      #Final data shape"
   ]
  },
  {
   "cell_type": "code",
   "execution_count": 36,
   "metadata": {},
   "outputs": [
    {
     "data": {
      "text/plain": [
       "count    12330.000000\n",
       "mean         0.022191\n",
       "std          0.048488\n",
       "min          0.000000\n",
       "1%           0.000000\n",
       "10%          0.000000\n",
       "20%          0.000000\n",
       "30%          0.000000\n",
       "40%          0.000000\n",
       "50%          0.003112\n",
       "60%          0.007143\n",
       "70%          0.012859\n",
       "80%          0.023077\n",
       "90%          0.058197\n",
       "99%          0.200000\n",
       "max          0.200000\n",
       "Name: BounceRates, dtype: float64"
      ]
     },
     "execution_count": 36,
     "metadata": {},
     "output_type": "execute_result"
    }
   ],
   "source": [
    "data.BounceRates.describe([.01,.1,.2,.3,.4,.5,.6,.7,.8,.9,.99])   #Check outliers for BounceRates column"
   ]
  },
  {
   "cell_type": "code",
   "execution_count": 37,
   "metadata": {
    "colab": {
     "base_uri": "https://localhost:8080/"
    },
    "id": "VBUWkQEbsF2m",
    "outputId": "8df9eed8-aba3-42d5-b43b-aa8fd6846d36"
   },
   "outputs": [
    {
     "data": {
      "text/plain": [
       "(12330, 18)"
      ]
     },
     "execution_count": 37,
     "metadata": {},
     "output_type": "execute_result"
    }
   ],
   "source": [
    "#Outlier for Bounce_Rates\n",
    "q1_br=np.quantile(data.BounceRates,0.25)                                            #Determine Q1\n",
    "q3_br=np.quantile(data.BounceRates,0.75)                                            #Determine Q3\n",
    "iqr_br=q3_br-q1_br                                                                  #Calculate IQR\n",
    "low_level = q1_br-(1.5*iqr_br)                                                      #Lower bound\n",
    "up_lowel = q3_br+(1.5*iqr_br)                                                       #Upper bound\n",
    "data1=data[~(data.BounceRates<low_level) | (data.BounceRates>up_lowel)]             #Try to delete outliers\n",
    "data1.shape                                                                         #Final data shape"
   ]
  },
  {
   "cell_type": "code",
   "execution_count": 38,
   "metadata": {},
   "outputs": [
    {
     "data": {
      "text/plain": [
       "count    12330.000000\n",
       "mean         0.043073\n",
       "std          0.048597\n",
       "min          0.000000\n",
       "1%           0.001250\n",
       "10%          0.007449\n",
       "20%          0.012071\n",
       "30%          0.016216\n",
       "40%          0.020513\n",
       "50%          0.025156\n",
       "60%          0.032871\n",
       "70%          0.041270\n",
       "80%          0.058333\n",
       "90%          0.100000\n",
       "99%          0.200000\n",
       "max          0.200000\n",
       "Name: ExitRates, dtype: float64"
      ]
     },
     "execution_count": 38,
     "metadata": {},
     "output_type": "execute_result"
    }
   ],
   "source": [
    "data.ExitRates.describe([.01,.1,.2,.3,.4,.5,.6,.7,.8,.9,.99])   #Check outliers for ExitRates column"
   ]
  },
  {
   "cell_type": "code",
   "execution_count": 39,
   "metadata": {
    "colab": {
     "base_uri": "https://localhost:8080/"
    },
    "id": "E8-DxNvSsGBS",
    "outputId": "2dd35a6d-be4d-4a12-d171-a78465f60bd5"
   },
   "outputs": [
    {
     "data": {
      "text/plain": [
       "(12330, 18)"
      ]
     },
     "execution_count": 39,
     "metadata": {},
     "output_type": "execute_result"
    }
   ],
   "source": [
    "#Outlier for Exit_Rates\n",
    "q1_er=np.quantile(data.ExitRates,0.25)                                       #Determine Q1\n",
    "q3_er=np.quantile(data.ExitRates,0.75)                                       #Determine Q1\n",
    "iqr_er=q3_er-q1_er                                                           #Calculate IQR\n",
    "low_level = q1_er-(1.5*iqr_er)                                               #Lower bound\n",
    "up_lowel = q3_er+(1.5*iqr_er)                                                #Upper bound\n",
    "data1=data[~(data.ExitRates<low_level) | (data.ExitRates>up_lowel)]          #Try to delete outliers    \n",
    "data1.shape                                                                  #Final data shape"
   ]
  },
  {
   "cell_type": "code",
   "execution_count": 40,
   "metadata": {},
   "outputs": [
    {
     "data": {
      "text/plain": [
       "count    12330.000000\n",
       "mean         5.889258\n",
       "std         18.568437\n",
       "min          0.000000\n",
       "1%           0.000000\n",
       "10%          0.000000\n",
       "20%          0.000000\n",
       "30%          0.000000\n",
       "40%          0.000000\n",
       "50%          0.000000\n",
       "60%          0.000000\n",
       "70%          0.000000\n",
       "80%          3.060078\n",
       "90%         18.855502\n",
       "99%         85.498490\n",
       "max        361.763742\n",
       "Name: PageValues, dtype: float64"
      ]
     },
     "execution_count": 40,
     "metadata": {},
     "output_type": "execute_result"
    }
   ],
   "source": [
    "data.PageValues.describe([.01,.1,.2,.3,.4,.5,.6,.7,.8,.9,.99])   #Check outliers for PageValues column"
   ]
  },
  {
   "cell_type": "code",
   "execution_count": 41,
   "metadata": {
    "colab": {
     "base_uri": "https://localhost:8080/"
    },
    "id": "n1jVc_2UtZht",
    "outputId": "2b767d2e-ac6f-4f81-ad51-febe440fe323"
   },
   "outputs": [
    {
     "data": {
      "text/plain": [
       "(12330, 18)"
      ]
     },
     "execution_count": 41,
     "metadata": {},
     "output_type": "execute_result"
    }
   ],
   "source": [
    "#Outlier for PageValues\n",
    "q1_pg=np.quantile(data.PageValues,0.25)                                         #Determine Q1\n",
    "q3_pg=np.quantile(data.PageValues,0.75)                                         #Determine Q1\n",
    "iqr_pg=q3_inf-q1_pg                                                             #Calculate IQR\n",
    "low_level = q1_pg-(1.5*iqr_pg)                                                  #Lower bound\n",
    "up_lowel = q3_pg+(1.5*iqr_pg)                                                   #Upper bound\n",
    "data1=data[~(data.PageValues<low_level) | (data.PageValues>up_lowel)]           #Try to delete outliers\n",
    "data1.shape                                                                     #Final data shape"
   ]
  },
  {
   "cell_type": "code",
   "execution_count": 42,
   "metadata": {
    "id": "7eVj78KMwbtn"
   },
   "outputs": [
    {
     "data": {
      "text/plain": [
       "count    12330.000000\n",
       "mean         0.061427\n",
       "std          0.198917\n",
       "min          0.000000\n",
       "1%           0.000000\n",
       "10%          0.000000\n",
       "20%          0.000000\n",
       "30%          0.000000\n",
       "40%          0.000000\n",
       "50%          0.000000\n",
       "60%          0.000000\n",
       "70%          0.000000\n",
       "80%          0.000000\n",
       "90%          0.200000\n",
       "99%          1.000000\n",
       "max          1.000000\n",
       "Name: SpecialDay, dtype: float64"
      ]
     },
     "execution_count": 42,
     "metadata": {},
     "output_type": "execute_result"
    }
   ],
   "source": [
    "data.SpecialDay.describe([.01,.1,.2,.3,.4,.5,.6,.7,.8,.9,.99])   #Check outliers for SpecialDay column"
   ]
  },
  {
   "cell_type": "markdown",
   "metadata": {},
   "source": [
    "#### One Hot Encoding"
   ]
  },
  {
   "cell_type": "markdown",
   "metadata": {},
   "source": [
    "The categorical values must be converted into numbers. This is needed for both input and output variables that are categorical. For this resaon, One Hot Encoding is applied to categorical variables because it represents categorical data more expressive on this data. Also, these categorical variables does not include any ordinal situation. While applying One Hot encoding, in order to avoid the curse of dimensionality, one of the newly formed variables was deleted for each main categorical variable. From now on, new target feature is Revenue_True and the number of input variables is 68."
   ]
  },
  {
   "cell_type": "code",
   "execution_count": 43,
   "metadata": {
    "id": "g8QEVbBCNFA5"
   },
   "outputs": [],
   "source": [
    "#Assigning numeric variables to num_cols\n",
    "num_cols = ['Administrative', 'Administrative_Duration', 'Informational','Informational_Duration', 'ProductRelated', \n",
    "            'ProductRelated_Duration','BounceRates', 'ExitRates', 'PageValues', 'SpecialDay'] \n",
    "#Assigning categoric variables to cat_cols\n",
    "cat_cols = ['Month','OperatingSystems','Browser','Region','TrafficType','VisitorType','Weekend','Revenue'] "
   ]
  },
  {
   "cell_type": "code",
   "execution_count": 44,
   "metadata": {
    "id": "oDJzBWDvNFA6"
   },
   "outputs": [],
   "source": [
    "data1 = pd.get_dummies(data, columns = cat_cols, drop_first = True) #Applying one hot encoding"
   ]
  },
  {
   "cell_type": "code",
   "execution_count": 45,
   "metadata": {
    "colab": {
     "base_uri": "https://localhost:8080/",
     "height": 226
    },
    "id": "6VSbDg4CNFA6",
    "outputId": "60e0b040-c6d3-4d00-d067-23dd33933dc9"
   },
   "outputs": [
    {
     "data": {
      "text/html": [
       "<div>\n",
       "<style scoped>\n",
       "    .dataframe tbody tr th:only-of-type {\n",
       "        vertical-align: middle;\n",
       "    }\n",
       "\n",
       "    .dataframe tbody tr th {\n",
       "        vertical-align: top;\n",
       "    }\n",
       "\n",
       "    .dataframe thead th {\n",
       "        text-align: right;\n",
       "    }\n",
       "</style>\n",
       "<table border=\"1\" class=\"dataframe\">\n",
       "  <thead>\n",
       "    <tr style=\"text-align: right;\">\n",
       "      <th></th>\n",
       "      <th>Administrative</th>\n",
       "      <th>Administrative_Duration</th>\n",
       "      <th>Informational</th>\n",
       "      <th>Informational_Duration</th>\n",
       "      <th>ProductRelated</th>\n",
       "      <th>ProductRelated_Duration</th>\n",
       "      <th>BounceRates</th>\n",
       "      <th>ExitRates</th>\n",
       "      <th>PageValues</th>\n",
       "      <th>SpecialDay</th>\n",
       "      <th>...</th>\n",
       "      <th>TrafficType_15</th>\n",
       "      <th>TrafficType_16</th>\n",
       "      <th>TrafficType_17</th>\n",
       "      <th>TrafficType_18</th>\n",
       "      <th>TrafficType_19</th>\n",
       "      <th>TrafficType_20</th>\n",
       "      <th>VisitorType_Other</th>\n",
       "      <th>VisitorType_Returning_Visitor</th>\n",
       "      <th>Weekend_True</th>\n",
       "      <th>Revenue_True</th>\n",
       "    </tr>\n",
       "  </thead>\n",
       "  <tbody>\n",
       "    <tr>\n",
       "      <td>0</td>\n",
       "      <td>0</td>\n",
       "      <td>0.0</td>\n",
       "      <td>0</td>\n",
       "      <td>0.0</td>\n",
       "      <td>1</td>\n",
       "      <td>0.000000</td>\n",
       "      <td>0.20</td>\n",
       "      <td>0.20</td>\n",
       "      <td>0.0</td>\n",
       "      <td>0.0</td>\n",
       "      <td>...</td>\n",
       "      <td>0</td>\n",
       "      <td>0</td>\n",
       "      <td>0</td>\n",
       "      <td>0</td>\n",
       "      <td>0</td>\n",
       "      <td>0</td>\n",
       "      <td>0</td>\n",
       "      <td>1</td>\n",
       "      <td>0</td>\n",
       "      <td>0</td>\n",
       "    </tr>\n",
       "    <tr>\n",
       "      <td>1</td>\n",
       "      <td>0</td>\n",
       "      <td>0.0</td>\n",
       "      <td>0</td>\n",
       "      <td>0.0</td>\n",
       "      <td>2</td>\n",
       "      <td>64.000000</td>\n",
       "      <td>0.00</td>\n",
       "      <td>0.10</td>\n",
       "      <td>0.0</td>\n",
       "      <td>0.0</td>\n",
       "      <td>...</td>\n",
       "      <td>0</td>\n",
       "      <td>0</td>\n",
       "      <td>0</td>\n",
       "      <td>0</td>\n",
       "      <td>0</td>\n",
       "      <td>0</td>\n",
       "      <td>0</td>\n",
       "      <td>1</td>\n",
       "      <td>0</td>\n",
       "      <td>0</td>\n",
       "    </tr>\n",
       "    <tr>\n",
       "      <td>2</td>\n",
       "      <td>0</td>\n",
       "      <td>0.0</td>\n",
       "      <td>0</td>\n",
       "      <td>0.0</td>\n",
       "      <td>1</td>\n",
       "      <td>0.000000</td>\n",
       "      <td>0.20</td>\n",
       "      <td>0.20</td>\n",
       "      <td>0.0</td>\n",
       "      <td>0.0</td>\n",
       "      <td>...</td>\n",
       "      <td>0</td>\n",
       "      <td>0</td>\n",
       "      <td>0</td>\n",
       "      <td>0</td>\n",
       "      <td>0</td>\n",
       "      <td>0</td>\n",
       "      <td>0</td>\n",
       "      <td>1</td>\n",
       "      <td>0</td>\n",
       "      <td>0</td>\n",
       "    </tr>\n",
       "    <tr>\n",
       "      <td>3</td>\n",
       "      <td>0</td>\n",
       "      <td>0.0</td>\n",
       "      <td>0</td>\n",
       "      <td>0.0</td>\n",
       "      <td>2</td>\n",
       "      <td>2.666667</td>\n",
       "      <td>0.05</td>\n",
       "      <td>0.14</td>\n",
       "      <td>0.0</td>\n",
       "      <td>0.0</td>\n",
       "      <td>...</td>\n",
       "      <td>0</td>\n",
       "      <td>0</td>\n",
       "      <td>0</td>\n",
       "      <td>0</td>\n",
       "      <td>0</td>\n",
       "      <td>0</td>\n",
       "      <td>0</td>\n",
       "      <td>1</td>\n",
       "      <td>0</td>\n",
       "      <td>0</td>\n",
       "    </tr>\n",
       "    <tr>\n",
       "      <td>4</td>\n",
       "      <td>0</td>\n",
       "      <td>0.0</td>\n",
       "      <td>0</td>\n",
       "      <td>0.0</td>\n",
       "      <td>10</td>\n",
       "      <td>627.500000</td>\n",
       "      <td>0.02</td>\n",
       "      <td>0.05</td>\n",
       "      <td>0.0</td>\n",
       "      <td>0.0</td>\n",
       "      <td>...</td>\n",
       "      <td>0</td>\n",
       "      <td>0</td>\n",
       "      <td>0</td>\n",
       "      <td>0</td>\n",
       "      <td>0</td>\n",
       "      <td>0</td>\n",
       "      <td>0</td>\n",
       "      <td>1</td>\n",
       "      <td>1</td>\n",
       "      <td>0</td>\n",
       "    </tr>\n",
       "  </tbody>\n",
       "</table>\n",
       "<p>5 rows × 69 columns</p>\n",
       "</div>"
      ],
      "text/plain": [
       "   Administrative  Administrative_Duration  Informational  \\\n",
       "0               0                      0.0              0   \n",
       "1               0                      0.0              0   \n",
       "2               0                      0.0              0   \n",
       "3               0                      0.0              0   \n",
       "4               0                      0.0              0   \n",
       "\n",
       "   Informational_Duration  ProductRelated  ProductRelated_Duration  \\\n",
       "0                     0.0               1                 0.000000   \n",
       "1                     0.0               2                64.000000   \n",
       "2                     0.0               1                 0.000000   \n",
       "3                     0.0               2                 2.666667   \n",
       "4                     0.0              10               627.500000   \n",
       "\n",
       "   BounceRates  ExitRates  PageValues  SpecialDay  ...  TrafficType_15  \\\n",
       "0         0.20       0.20         0.0         0.0  ...               0   \n",
       "1         0.00       0.10         0.0         0.0  ...               0   \n",
       "2         0.20       0.20         0.0         0.0  ...               0   \n",
       "3         0.05       0.14         0.0         0.0  ...               0   \n",
       "4         0.02       0.05         0.0         0.0  ...               0   \n",
       "\n",
       "   TrafficType_16  TrafficType_17  TrafficType_18  TrafficType_19  \\\n",
       "0               0               0               0               0   \n",
       "1               0               0               0               0   \n",
       "2               0               0               0               0   \n",
       "3               0               0               0               0   \n",
       "4               0               0               0               0   \n",
       "\n",
       "   TrafficType_20  VisitorType_Other  VisitorType_Returning_Visitor  \\\n",
       "0               0                  0                              1   \n",
       "1               0                  0                              1   \n",
       "2               0                  0                              1   \n",
       "3               0                  0                              1   \n",
       "4               0                  0                              1   \n",
       "\n",
       "   Weekend_True  Revenue_True  \n",
       "0             0             0  \n",
       "1             0             0  \n",
       "2             0             0  \n",
       "3             0             0  \n",
       "4             1             0  \n",
       "\n",
       "[5 rows x 69 columns]"
      ]
     },
     "execution_count": 45,
     "metadata": {},
     "output_type": "execute_result"
    }
   ],
   "source": [
    "data1.head()   #Check the last version of data, there are 69 variables thanks to one hot encoding"
   ]
  },
  {
   "cell_type": "markdown",
   "metadata": {},
   "source": [
    "#### Feature Selection"
   ]
  },
  {
   "cell_type": "markdown",
   "metadata": {},
   "source": [
    "Too many features do not always give the best results, and the time it takes to finalize the model is costly and valuable. For this reason, getting rid of some features can yield useful results if good estimation can be performed. Thanks to correlation analysis, it is observed the relationship of variables with Revenue_True target column. For feature selection, it is determined to delete variables with a threshold value less than 5% from the model. Next, for categorical vairables, thanks to the Chi2 metric, important features will be determined by deleting the variables with a score below 10, among the variables obtained by encoding categorical variables. Later, these two variable lists will be concated and used for modelling."
   ]
  },
  {
   "cell_type": "code",
   "execution_count": 46,
   "metadata": {
    "colab": {
     "base_uri": "https://localhost:8080/"
    },
    "id": "TahvMcSpNFA6",
    "outputId": "d57ae94e-e047-4c77-ff9d-474ceda5c16a"
   },
   "outputs": [
    {
     "data": {
      "text/plain": [
       "Revenue_True                     1.000000\n",
       "PageValues                       0.492569\n",
       "ExitRates                        0.207071\n",
       "ProductRelated                   0.158538\n",
       "Month_Nov                        0.154774\n",
       "ProductRelated_Duration          0.152373\n",
       "BounceRates                      0.150673\n",
       "Administrative                   0.138917\n",
       "TrafficType_2                    0.116347\n",
       "VisitorType_Returning_Visitor    0.103843\n",
       "Informational                    0.095200\n",
       "Administrative_Duration          0.093587\n",
       "TrafficType_3                    0.082808\n",
       "SpecialDay                       0.082305\n",
       "Month_May                        0.078320\n",
       "OperatingSystems_3               0.070472\n",
       "Informational_Duration           0.070345\n",
       "TrafficType_13                   0.067310\n",
       "Month_Mar                        0.063941\n",
       "OperatingSystems_2               0.060040\n",
       "TrafficType_8                    0.057167\n",
       "Month_Feb                        0.047114\n",
       "TrafficType_20                   0.034540\n",
       "Month_Dec                        0.033112\n",
       "Month_Oct                        0.032666\n",
       "Name: Revenue_True, dtype: float64"
      ]
     },
     "execution_count": 46,
     "metadata": {},
     "output_type": "execute_result"
    }
   ],
   "source": [
    "data1.corr()['Revenue_True'].abs().sort_values(ascending=False).head(25) #Observing the 25 most influential variables even some of them have negative correlation"
   ]
  },
  {
   "cell_type": "code",
   "execution_count": 47,
   "metadata": {},
   "outputs": [],
   "source": [
    "corr_feature_names = pd.DataFrame(list(data1.corr()['Revenue_True'].abs().sort_values(ascending=False).head(22).index)) \n",
    "#assign the 22 most influential variables according to correlation to corr_feature_names object"
   ]
  },
  {
   "cell_type": "code",
   "execution_count": 48,
   "metadata": {},
   "outputs": [
    {
     "data": {
      "text/html": [
       "<div>\n",
       "<style scoped>\n",
       "    .dataframe tbody tr th:only-of-type {\n",
       "        vertical-align: middle;\n",
       "    }\n",
       "\n",
       "    .dataframe tbody tr th {\n",
       "        vertical-align: top;\n",
       "    }\n",
       "\n",
       "    .dataframe thead th {\n",
       "        text-align: right;\n",
       "    }\n",
       "</style>\n",
       "<table border=\"1\" class=\"dataframe\">\n",
       "  <thead>\n",
       "    <tr style=\"text-align: right;\">\n",
       "      <th></th>\n",
       "      <th>0</th>\n",
       "    </tr>\n",
       "  </thead>\n",
       "  <tbody>\n",
       "    <tr>\n",
       "      <td>1</td>\n",
       "      <td>PageValues</td>\n",
       "    </tr>\n",
       "    <tr>\n",
       "      <td>2</td>\n",
       "      <td>ExitRates</td>\n",
       "    </tr>\n",
       "    <tr>\n",
       "      <td>3</td>\n",
       "      <td>ProductRelated</td>\n",
       "    </tr>\n",
       "    <tr>\n",
       "      <td>4</td>\n",
       "      <td>Month_Nov</td>\n",
       "    </tr>\n",
       "    <tr>\n",
       "      <td>5</td>\n",
       "      <td>ProductRelated_Duration</td>\n",
       "    </tr>\n",
       "    <tr>\n",
       "      <td>6</td>\n",
       "      <td>BounceRates</td>\n",
       "    </tr>\n",
       "    <tr>\n",
       "      <td>7</td>\n",
       "      <td>Administrative</td>\n",
       "    </tr>\n",
       "    <tr>\n",
       "      <td>8</td>\n",
       "      <td>TrafficType_2</td>\n",
       "    </tr>\n",
       "    <tr>\n",
       "      <td>9</td>\n",
       "      <td>VisitorType_Returning_Visitor</td>\n",
       "    </tr>\n",
       "    <tr>\n",
       "      <td>10</td>\n",
       "      <td>Informational</td>\n",
       "    </tr>\n",
       "    <tr>\n",
       "      <td>11</td>\n",
       "      <td>Administrative_Duration</td>\n",
       "    </tr>\n",
       "    <tr>\n",
       "      <td>12</td>\n",
       "      <td>TrafficType_3</td>\n",
       "    </tr>\n",
       "    <tr>\n",
       "      <td>13</td>\n",
       "      <td>SpecialDay</td>\n",
       "    </tr>\n",
       "    <tr>\n",
       "      <td>14</td>\n",
       "      <td>Month_May</td>\n",
       "    </tr>\n",
       "    <tr>\n",
       "      <td>15</td>\n",
       "      <td>OperatingSystems_3</td>\n",
       "    </tr>\n",
       "    <tr>\n",
       "      <td>16</td>\n",
       "      <td>Informational_Duration</td>\n",
       "    </tr>\n",
       "    <tr>\n",
       "      <td>17</td>\n",
       "      <td>TrafficType_13</td>\n",
       "    </tr>\n",
       "    <tr>\n",
       "      <td>18</td>\n",
       "      <td>Month_Mar</td>\n",
       "    </tr>\n",
       "    <tr>\n",
       "      <td>19</td>\n",
       "      <td>OperatingSystems_2</td>\n",
       "    </tr>\n",
       "    <tr>\n",
       "      <td>20</td>\n",
       "      <td>TrafficType_8</td>\n",
       "    </tr>\n",
       "  </tbody>\n",
       "</table>\n",
       "</div>"
      ],
      "text/plain": [
       "                                0\n",
       "1                      PageValues\n",
       "2                       ExitRates\n",
       "3                  ProductRelated\n",
       "4                       Month_Nov\n",
       "5         ProductRelated_Duration\n",
       "6                     BounceRates\n",
       "7                  Administrative\n",
       "8                   TrafficType_2\n",
       "9   VisitorType_Returning_Visitor\n",
       "10                  Informational\n",
       "11        Administrative_Duration\n",
       "12                  TrafficType_3\n",
       "13                     SpecialDay\n",
       "14                      Month_May\n",
       "15             OperatingSystems_3\n",
       "16         Informational_Duration\n",
       "17                 TrafficType_13\n",
       "18                      Month_Mar\n",
       "19             OperatingSystems_2\n",
       "20                  TrafficType_8"
      ]
     },
     "execution_count": 48,
     "metadata": {},
     "output_type": "execute_result"
    }
   ],
   "source": [
    "corr_feature_names = corr_feature_names[1:21]  #Exclude target column from corr_feature_names object\n",
    "corr_feature_names                             #See what is new corr_feature_names"
   ]
  },
  {
   "cell_type": "markdown",
   "metadata": {
    "id": "S2_mjJMyNFA6"
   },
   "source": [
    "#### Splitting & Scaling"
   ]
  },
  {
   "cell_type": "markdown",
   "metadata": {},
   "source": [
    "In this section, data is splitted to X and y. Then, with Chi2 metric, influential variables selected for feature selection. (For Chi2 metric, data should be splitted y and categorical X columns.) Next, Standard scaling is applied to numerical variables."
   ]
  },
  {
   "cell_type": "code",
   "execution_count": 49,
   "metadata": {
    "id": "aVoHbZRtNFA6"
   },
   "outputs": [],
   "source": [
    "y = data1['Revenue_True'].copy()           #Assigning target column to y \n",
    "X = data1.drop('Revenue_True', axis = 1)   #X is data without target column"
   ]
  },
  {
   "cell_type": "code",
   "execution_count": 50,
   "metadata": {},
   "outputs": [
    {
     "data": {
      "text/plain": [
       "Index(['Administrative', 'Administrative_Duration', 'Informational',\n",
       "       'Informational_Duration', 'ProductRelated', 'ProductRelated_Duration',\n",
       "       'BounceRates', 'ExitRates', 'PageValues', 'SpecialDay', 'Month_Dec',\n",
       "       'Month_Feb', 'Month_Jul', 'Month_June', 'Month_Mar', 'Month_May',\n",
       "       'Month_Nov', 'Month_Oct', 'Month_Sep', 'OperatingSystems_2',\n",
       "       'OperatingSystems_3', 'OperatingSystems_4', 'OperatingSystems_5',\n",
       "       'OperatingSystems_6', 'OperatingSystems_7', 'OperatingSystems_8',\n",
       "       'Browser_2', 'Browser_3', 'Browser_4', 'Browser_5', 'Browser_6',\n",
       "       'Browser_7', 'Browser_8', 'Browser_9', 'Browser_10', 'Browser_11',\n",
       "       'Browser_12', 'Browser_13', 'Region_2', 'Region_3', 'Region_4',\n",
       "       'Region_5', 'Region_6', 'Region_7', 'Region_8', 'Region_9',\n",
       "       'TrafficType_2', 'TrafficType_3', 'TrafficType_4', 'TrafficType_5',\n",
       "       'TrafficType_6', 'TrafficType_7', 'TrafficType_8', 'TrafficType_9',\n",
       "       'TrafficType_10', 'TrafficType_11', 'TrafficType_12', 'TrafficType_13',\n",
       "       'TrafficType_14', 'TrafficType_15', 'TrafficType_16', 'TrafficType_17',\n",
       "       'TrafficType_18', 'TrafficType_19', 'TrafficType_20',\n",
       "       'VisitorType_Other', 'VisitorType_Returning_Visitor', 'Weekend_True'],\n",
       "      dtype='object')"
      ]
     },
     "execution_count": 50,
     "metadata": {},
     "output_type": "execute_result"
    }
   ],
   "source": [
    "X.columns   #Get the X columns"
   ]
  },
  {
   "cell_type": "code",
   "execution_count": 51,
   "metadata": {},
   "outputs": [
    {
     "data": {
      "text/html": [
       "<div>\n",
       "<style scoped>\n",
       "    .dataframe tbody tr th:only-of-type {\n",
       "        vertical-align: middle;\n",
       "    }\n",
       "\n",
       "    .dataframe tbody tr th {\n",
       "        vertical-align: top;\n",
       "    }\n",
       "\n",
       "    .dataframe thead th {\n",
       "        text-align: right;\n",
       "    }\n",
       "</style>\n",
       "<table border=\"1\" class=\"dataframe\">\n",
       "  <thead>\n",
       "    <tr style=\"text-align: right;\">\n",
       "      <th></th>\n",
       "      <th>Month_Dec</th>\n",
       "      <th>Month_Feb</th>\n",
       "      <th>Month_Jul</th>\n",
       "      <th>Month_June</th>\n",
       "      <th>Month_Mar</th>\n",
       "      <th>Month_May</th>\n",
       "      <th>Month_Nov</th>\n",
       "      <th>Month_Oct</th>\n",
       "      <th>Month_Sep</th>\n",
       "      <th>OperatingSystems_2</th>\n",
       "      <th>...</th>\n",
       "      <th>TrafficType_14</th>\n",
       "      <th>TrafficType_15</th>\n",
       "      <th>TrafficType_16</th>\n",
       "      <th>TrafficType_17</th>\n",
       "      <th>TrafficType_18</th>\n",
       "      <th>TrafficType_19</th>\n",
       "      <th>TrafficType_20</th>\n",
       "      <th>VisitorType_Other</th>\n",
       "      <th>VisitorType_Returning_Visitor</th>\n",
       "      <th>Weekend_True</th>\n",
       "    </tr>\n",
       "  </thead>\n",
       "  <tbody>\n",
       "    <tr>\n",
       "      <td>0</td>\n",
       "      <td>0</td>\n",
       "      <td>1</td>\n",
       "      <td>0</td>\n",
       "      <td>0</td>\n",
       "      <td>0</td>\n",
       "      <td>0</td>\n",
       "      <td>0</td>\n",
       "      <td>0</td>\n",
       "      <td>0</td>\n",
       "      <td>0</td>\n",
       "      <td>...</td>\n",
       "      <td>0</td>\n",
       "      <td>0</td>\n",
       "      <td>0</td>\n",
       "      <td>0</td>\n",
       "      <td>0</td>\n",
       "      <td>0</td>\n",
       "      <td>0</td>\n",
       "      <td>0</td>\n",
       "      <td>1</td>\n",
       "      <td>0</td>\n",
       "    </tr>\n",
       "    <tr>\n",
       "      <td>1</td>\n",
       "      <td>0</td>\n",
       "      <td>1</td>\n",
       "      <td>0</td>\n",
       "      <td>0</td>\n",
       "      <td>0</td>\n",
       "      <td>0</td>\n",
       "      <td>0</td>\n",
       "      <td>0</td>\n",
       "      <td>0</td>\n",
       "      <td>1</td>\n",
       "      <td>...</td>\n",
       "      <td>0</td>\n",
       "      <td>0</td>\n",
       "      <td>0</td>\n",
       "      <td>0</td>\n",
       "      <td>0</td>\n",
       "      <td>0</td>\n",
       "      <td>0</td>\n",
       "      <td>0</td>\n",
       "      <td>1</td>\n",
       "      <td>0</td>\n",
       "    </tr>\n",
       "    <tr>\n",
       "      <td>2</td>\n",
       "      <td>0</td>\n",
       "      <td>1</td>\n",
       "      <td>0</td>\n",
       "      <td>0</td>\n",
       "      <td>0</td>\n",
       "      <td>0</td>\n",
       "      <td>0</td>\n",
       "      <td>0</td>\n",
       "      <td>0</td>\n",
       "      <td>0</td>\n",
       "      <td>...</td>\n",
       "      <td>0</td>\n",
       "      <td>0</td>\n",
       "      <td>0</td>\n",
       "      <td>0</td>\n",
       "      <td>0</td>\n",
       "      <td>0</td>\n",
       "      <td>0</td>\n",
       "      <td>0</td>\n",
       "      <td>1</td>\n",
       "      <td>0</td>\n",
       "    </tr>\n",
       "    <tr>\n",
       "      <td>3</td>\n",
       "      <td>0</td>\n",
       "      <td>1</td>\n",
       "      <td>0</td>\n",
       "      <td>0</td>\n",
       "      <td>0</td>\n",
       "      <td>0</td>\n",
       "      <td>0</td>\n",
       "      <td>0</td>\n",
       "      <td>0</td>\n",
       "      <td>0</td>\n",
       "      <td>...</td>\n",
       "      <td>0</td>\n",
       "      <td>0</td>\n",
       "      <td>0</td>\n",
       "      <td>0</td>\n",
       "      <td>0</td>\n",
       "      <td>0</td>\n",
       "      <td>0</td>\n",
       "      <td>0</td>\n",
       "      <td>1</td>\n",
       "      <td>0</td>\n",
       "    </tr>\n",
       "    <tr>\n",
       "      <td>4</td>\n",
       "      <td>0</td>\n",
       "      <td>1</td>\n",
       "      <td>0</td>\n",
       "      <td>0</td>\n",
       "      <td>0</td>\n",
       "      <td>0</td>\n",
       "      <td>0</td>\n",
       "      <td>0</td>\n",
       "      <td>0</td>\n",
       "      <td>0</td>\n",
       "      <td>...</td>\n",
       "      <td>0</td>\n",
       "      <td>0</td>\n",
       "      <td>0</td>\n",
       "      <td>0</td>\n",
       "      <td>0</td>\n",
       "      <td>0</td>\n",
       "      <td>0</td>\n",
       "      <td>0</td>\n",
       "      <td>1</td>\n",
       "      <td>1</td>\n",
       "    </tr>\n",
       "    <tr>\n",
       "      <td>...</td>\n",
       "      <td>...</td>\n",
       "      <td>...</td>\n",
       "      <td>...</td>\n",
       "      <td>...</td>\n",
       "      <td>...</td>\n",
       "      <td>...</td>\n",
       "      <td>...</td>\n",
       "      <td>...</td>\n",
       "      <td>...</td>\n",
       "      <td>...</td>\n",
       "      <td>...</td>\n",
       "      <td>...</td>\n",
       "      <td>...</td>\n",
       "      <td>...</td>\n",
       "      <td>...</td>\n",
       "      <td>...</td>\n",
       "      <td>...</td>\n",
       "      <td>...</td>\n",
       "      <td>...</td>\n",
       "      <td>...</td>\n",
       "      <td>...</td>\n",
       "    </tr>\n",
       "    <tr>\n",
       "      <td>12325</td>\n",
       "      <td>1</td>\n",
       "      <td>0</td>\n",
       "      <td>0</td>\n",
       "      <td>0</td>\n",
       "      <td>0</td>\n",
       "      <td>0</td>\n",
       "      <td>0</td>\n",
       "      <td>0</td>\n",
       "      <td>0</td>\n",
       "      <td>0</td>\n",
       "      <td>...</td>\n",
       "      <td>0</td>\n",
       "      <td>0</td>\n",
       "      <td>0</td>\n",
       "      <td>0</td>\n",
       "      <td>0</td>\n",
       "      <td>0</td>\n",
       "      <td>0</td>\n",
       "      <td>0</td>\n",
       "      <td>1</td>\n",
       "      <td>1</td>\n",
       "    </tr>\n",
       "    <tr>\n",
       "      <td>12326</td>\n",
       "      <td>0</td>\n",
       "      <td>0</td>\n",
       "      <td>0</td>\n",
       "      <td>0</td>\n",
       "      <td>0</td>\n",
       "      <td>0</td>\n",
       "      <td>1</td>\n",
       "      <td>0</td>\n",
       "      <td>0</td>\n",
       "      <td>0</td>\n",
       "      <td>...</td>\n",
       "      <td>0</td>\n",
       "      <td>0</td>\n",
       "      <td>0</td>\n",
       "      <td>0</td>\n",
       "      <td>0</td>\n",
       "      <td>0</td>\n",
       "      <td>0</td>\n",
       "      <td>0</td>\n",
       "      <td>1</td>\n",
       "      <td>1</td>\n",
       "    </tr>\n",
       "    <tr>\n",
       "      <td>12327</td>\n",
       "      <td>0</td>\n",
       "      <td>0</td>\n",
       "      <td>0</td>\n",
       "      <td>0</td>\n",
       "      <td>0</td>\n",
       "      <td>0</td>\n",
       "      <td>1</td>\n",
       "      <td>0</td>\n",
       "      <td>0</td>\n",
       "      <td>0</td>\n",
       "      <td>...</td>\n",
       "      <td>0</td>\n",
       "      <td>0</td>\n",
       "      <td>0</td>\n",
       "      <td>0</td>\n",
       "      <td>0</td>\n",
       "      <td>0</td>\n",
       "      <td>0</td>\n",
       "      <td>0</td>\n",
       "      <td>1</td>\n",
       "      <td>1</td>\n",
       "    </tr>\n",
       "    <tr>\n",
       "      <td>12328</td>\n",
       "      <td>0</td>\n",
       "      <td>0</td>\n",
       "      <td>0</td>\n",
       "      <td>0</td>\n",
       "      <td>0</td>\n",
       "      <td>0</td>\n",
       "      <td>1</td>\n",
       "      <td>0</td>\n",
       "      <td>0</td>\n",
       "      <td>1</td>\n",
       "      <td>...</td>\n",
       "      <td>0</td>\n",
       "      <td>0</td>\n",
       "      <td>0</td>\n",
       "      <td>0</td>\n",
       "      <td>0</td>\n",
       "      <td>0</td>\n",
       "      <td>0</td>\n",
       "      <td>0</td>\n",
       "      <td>1</td>\n",
       "      <td>0</td>\n",
       "    </tr>\n",
       "    <tr>\n",
       "      <td>12329</td>\n",
       "      <td>0</td>\n",
       "      <td>0</td>\n",
       "      <td>0</td>\n",
       "      <td>0</td>\n",
       "      <td>0</td>\n",
       "      <td>0</td>\n",
       "      <td>1</td>\n",
       "      <td>0</td>\n",
       "      <td>0</td>\n",
       "      <td>0</td>\n",
       "      <td>...</td>\n",
       "      <td>0</td>\n",
       "      <td>0</td>\n",
       "      <td>0</td>\n",
       "      <td>0</td>\n",
       "      <td>0</td>\n",
       "      <td>0</td>\n",
       "      <td>0</td>\n",
       "      <td>0</td>\n",
       "      <td>0</td>\n",
       "      <td>1</td>\n",
       "    </tr>\n",
       "  </tbody>\n",
       "</table>\n",
       "<p>12330 rows × 58 columns</p>\n",
       "</div>"
      ],
      "text/plain": [
       "       Month_Dec  Month_Feb  Month_Jul  Month_June  Month_Mar  Month_May  \\\n",
       "0              0          1          0           0          0          0   \n",
       "1              0          1          0           0          0          0   \n",
       "2              0          1          0           0          0          0   \n",
       "3              0          1          0           0          0          0   \n",
       "4              0          1          0           0          0          0   \n",
       "...          ...        ...        ...         ...        ...        ...   \n",
       "12325          1          0          0           0          0          0   \n",
       "12326          0          0          0           0          0          0   \n",
       "12327          0          0          0           0          0          0   \n",
       "12328          0          0          0           0          0          0   \n",
       "12329          0          0          0           0          0          0   \n",
       "\n",
       "       Month_Nov  Month_Oct  Month_Sep  OperatingSystems_2  ...  \\\n",
       "0              0          0          0                   0  ...   \n",
       "1              0          0          0                   1  ...   \n",
       "2              0          0          0                   0  ...   \n",
       "3              0          0          0                   0  ...   \n",
       "4              0          0          0                   0  ...   \n",
       "...          ...        ...        ...                 ...  ...   \n",
       "12325          0          0          0                   0  ...   \n",
       "12326          1          0          0                   0  ...   \n",
       "12327          1          0          0                   0  ...   \n",
       "12328          1          0          0                   1  ...   \n",
       "12329          1          0          0                   0  ...   \n",
       "\n",
       "       TrafficType_14  TrafficType_15  TrafficType_16  TrafficType_17  \\\n",
       "0                   0               0               0               0   \n",
       "1                   0               0               0               0   \n",
       "2                   0               0               0               0   \n",
       "3                   0               0               0               0   \n",
       "4                   0               0               0               0   \n",
       "...               ...             ...             ...             ...   \n",
       "12325               0               0               0               0   \n",
       "12326               0               0               0               0   \n",
       "12327               0               0               0               0   \n",
       "12328               0               0               0               0   \n",
       "12329               0               0               0               0   \n",
       "\n",
       "       TrafficType_18  TrafficType_19  TrafficType_20  VisitorType_Other  \\\n",
       "0                   0               0               0                  0   \n",
       "1                   0               0               0                  0   \n",
       "2                   0               0               0                  0   \n",
       "3                   0               0               0                  0   \n",
       "4                   0               0               0                  0   \n",
       "...               ...             ...             ...                ...   \n",
       "12325               0               0               0                  0   \n",
       "12326               0               0               0                  0   \n",
       "12327               0               0               0                  0   \n",
       "12328               0               0               0                  0   \n",
       "12329               0               0               0                  0   \n",
       "\n",
       "       VisitorType_Returning_Visitor  Weekend_True  \n",
       "0                                  1             0  \n",
       "1                                  1             0  \n",
       "2                                  1             0  \n",
       "3                                  1             0  \n",
       "4                                  1             1  \n",
       "...                              ...           ...  \n",
       "12325                              1             1  \n",
       "12326                              1             1  \n",
       "12327                              1             1  \n",
       "12328                              1             0  \n",
       "12329                              0             1  \n",
       "\n",
       "[12330 rows x 58 columns]"
      ]
     },
     "execution_count": 51,
     "metadata": {},
     "output_type": "execute_result"
    }
   ],
   "source": [
    "X_cat = X[['Month_Dec','Month_Feb', 'Month_Jul', 'Month_June', 'Month_Mar', 'Month_May',\n",
    "       'Month_Nov', 'Month_Oct', 'Month_Sep', 'OperatingSystems_2',\n",
    "       'OperatingSystems_3', 'OperatingSystems_4', 'OperatingSystems_5',\n",
    "       'OperatingSystems_6', 'OperatingSystems_7', 'OperatingSystems_8',\n",
    "       'Browser_2', 'Browser_3', 'Browser_4', 'Browser_5', 'Browser_6',\n",
    "       'Browser_7', 'Browser_8', 'Browser_9', 'Browser_10', 'Browser_11',\n",
    "       'Browser_12', 'Browser_13', 'Region_2', 'Region_3', 'Region_4',\n",
    "       'Region_5', 'Region_6', 'Region_7', 'Region_8', 'Region_9',\n",
    "       'TrafficType_2', 'TrafficType_3', 'TrafficType_4', 'TrafficType_5',\n",
    "       'TrafficType_6', 'TrafficType_7', 'TrafficType_8', 'TrafficType_9',\n",
    "       'TrafficType_10', 'TrafficType_11', 'TrafficType_12', 'TrafficType_13',\n",
    "       'TrafficType_14', 'TrafficType_15', 'TrafficType_16', 'TrafficType_17',\n",
    "       'TrafficType_18', 'TrafficType_19', 'TrafficType_20',\n",
    "       'VisitorType_Other', 'VisitorType_Returning_Visitor', 'Weekend_True']]  #Assigning variables generated thanks to one hot encoding to X_cat object\n",
    "X_cat   #Observe X_cat "
   ]
  },
  {
   "cell_type": "markdown",
   "metadata": {
    "id": "WgfNICcO4z00"
   },
   "source": [
    "Feature selection With Chi2"
   ]
  },
  {
   "cell_type": "code",
   "execution_count": 52,
   "metadata": {},
   "outputs": [
    {
     "name": "stdout",
     "output_type": "stream",
     "text": [
      "                        Variables      Scores\n",
      "6                       Month_Nov  223.548231\n",
      "36                  TrafficType_2  113.937321\n",
      "37                  TrafficType_3   70.477528\n",
      "5                       Month_May   54.997108\n",
      "47                 TrafficType_13   52.519206\n",
      "10             OperatingSystems_3   48.546233\n",
      "4                       Month_Mar   42.613274\n",
      "42                  TrafficType_8   39.174150\n",
      "1                       Month_Feb   26.961176\n",
      "9              OperatingSystems_2   20.651600\n",
      "56  VisitorType_Returning_Visitor   19.183544\n",
      "54                 TrafficType_20   14.473329\n",
      "7                       Month_Oct   12.571184\n",
      "0                       Month_Dec   11.624839\n",
      "17                      Browser_3    9.212374\n",
      "57                   Weekend_True    8.120464\n",
      "39                  TrafficType_5    7.309535\n",
      "44                 TrafficType_10    7.046143\n",
      "49                 TrafficType_15    6.956822\n",
      "41                  TrafficType_7    6.452407\n",
      "3                      Month_June    6.432531\n",
      "27                     Browser_13    5.394508\n",
      "8                       Month_Sep    4.744843\n",
      "40                  TrafficType_6    4.247921\n",
      "19                      Browser_5    3.088114\n"
     ]
    }
   ],
   "source": [
    "#Selecting the most influential 14 features from categorical variables thanks to chi2 and select K best.\n",
    "\n",
    "bestFeatures = SelectKBest(score_func=chi2, k = 25)              #According to Chi2, show best 25 feature\n",
    "fit = bestFeatures.fit(X_cat,y)                                  #Fit this metric with X_cat and y \n",
    "datascores = pd.DataFrame(fit.scores_)                           #Fit scores\n",
    "datacolumns = pd.DataFrame(X_cat.columns)                        #Define columns\n",
    "featureScores = pd.concat([datacolumns,datascores], axis = 1)    #Concat variables and their scores \n",
    "featureScores.columns = ['Variables','Scores']                   #Define headings for variables\n",
    "print(featureScores.nlargest(25,'Scores'))                       #Show the best 25 features according to their scores"
   ]
  },
  {
   "cell_type": "code",
   "execution_count": 53,
   "metadata": {},
   "outputs": [],
   "source": [
    "chi_best_variables = pd.DataFrame(list(featureScores.nlargest(14,'Scores').Variables)) #There are 14 features because threshold is defined 10.0 as scores."
   ]
  },
  {
   "cell_type": "code",
   "execution_count": 54,
   "metadata": {},
   "outputs": [],
   "source": [
    "#Concating most influential variables according to Correlation metric and most influential variables according to Chi Square metric\n",
    "data2 = pd.concat([corr_feature_names,chi_best_variables],ignore_index = True, verify_integrity = True) "
   ]
  },
  {
   "cell_type": "code",
   "execution_count": 55,
   "metadata": {
    "colab": {
     "base_uri": "https://localhost:8080/"
    },
    "id": "6OQZvfsh2tef",
    "outputId": "5027bdd5-d6e8-48fc-f0f9-15e9337ef908"
   },
   "outputs": [
    {
     "data": {
      "text/plain": [
       "array(['PageValues', 'ExitRates', 'ProductRelated', 'Month_Nov',\n",
       "       'ProductRelated_Duration', 'BounceRates', 'Administrative',\n",
       "       'TrafficType_2', 'VisitorType_Returning_Visitor', 'Informational',\n",
       "       'Administrative_Duration', 'TrafficType_3', 'SpecialDay',\n",
       "       'Month_May', 'OperatingSystems_3', 'Informational_Duration',\n",
       "       'TrafficType_13', 'Month_Mar', 'OperatingSystems_2',\n",
       "       'TrafficType_8', 'Month_Feb', 'TrafficType_20', 'Month_Oct',\n",
       "       'Month_Dec'], dtype=object)"
      ]
     },
     "execution_count": 55,
     "metadata": {},
     "output_type": "execute_result"
    }
   ],
   "source": [
    "data2[0].unique() #After the concatination, there are these unique variables."
   ]
  },
  {
   "cell_type": "code",
   "execution_count": 56,
   "metadata": {
    "id": "oz466sXb5SEY"
   },
   "outputs": [],
   "source": [
    "X_columns = data2[0].unique() #Assigning these variables to X_columns"
   ]
  },
  {
   "cell_type": "code",
   "execution_count": 57,
   "metadata": {
    "colab": {
     "base_uri": "https://localhost:8080/"
    },
    "id": "xI5Q51ed-iLk",
    "outputId": "9dc38a44-c6cc-4413-ec68-80d8afb89308"
   },
   "outputs": [
    {
     "data": {
      "text/plain": [
       "array(['PageValues', 'ExitRates', 'ProductRelated', 'Month_Nov',\n",
       "       'ProductRelated_Duration', 'BounceRates', 'Administrative',\n",
       "       'TrafficType_2', 'VisitorType_Returning_Visitor', 'Informational',\n",
       "       'Administrative_Duration', 'TrafficType_3', 'SpecialDay',\n",
       "       'Month_May', 'OperatingSystems_3', 'Informational_Duration',\n",
       "       'TrafficType_13', 'Month_Mar', 'OperatingSystems_2',\n",
       "       'TrafficType_8', 'Month_Feb', 'TrafficType_20', 'Month_Oct',\n",
       "       'Month_Dec'], dtype=object)"
      ]
     },
     "execution_count": 57,
     "metadata": {},
     "output_type": "execute_result"
    }
   ],
   "source": [
    "X_columns   #See X_columns"
   ]
  },
  {
   "cell_type": "code",
   "execution_count": 58,
   "metadata": {
    "colab": {
     "base_uri": "https://localhost:8080/",
     "height": 443
    },
    "id": "x9N-TEuA8mts",
    "outputId": "f1560845-c68f-4255-c533-a1d2cac936a0"
   },
   "outputs": [
    {
     "data": {
      "text/html": [
       "<div>\n",
       "<style scoped>\n",
       "    .dataframe tbody tr th:only-of-type {\n",
       "        vertical-align: middle;\n",
       "    }\n",
       "\n",
       "    .dataframe tbody tr th {\n",
       "        vertical-align: top;\n",
       "    }\n",
       "\n",
       "    .dataframe thead th {\n",
       "        text-align: right;\n",
       "    }\n",
       "</style>\n",
       "<table border=\"1\" class=\"dataframe\">\n",
       "  <thead>\n",
       "    <tr style=\"text-align: right;\">\n",
       "      <th></th>\n",
       "      <th>PageValues</th>\n",
       "      <th>ExitRates</th>\n",
       "      <th>ProductRelated</th>\n",
       "      <th>Month_Nov</th>\n",
       "      <th>ProductRelated_Duration</th>\n",
       "      <th>BounceRates</th>\n",
       "      <th>Administrative</th>\n",
       "      <th>TrafficType_2</th>\n",
       "      <th>VisitorType_Returning_Visitor</th>\n",
       "      <th>Informational</th>\n",
       "      <th>...</th>\n",
       "      <th>OperatingSystems_3</th>\n",
       "      <th>Informational_Duration</th>\n",
       "      <th>TrafficType_13</th>\n",
       "      <th>Month_Mar</th>\n",
       "      <th>OperatingSystems_2</th>\n",
       "      <th>TrafficType_8</th>\n",
       "      <th>Month_Feb</th>\n",
       "      <th>TrafficType_20</th>\n",
       "      <th>Month_Oct</th>\n",
       "      <th>Month_Dec</th>\n",
       "    </tr>\n",
       "  </thead>\n",
       "  <tbody>\n",
       "    <tr>\n",
       "      <td>0</td>\n",
       "      <td>0.000000</td>\n",
       "      <td>0.200000</td>\n",
       "      <td>1</td>\n",
       "      <td>0</td>\n",
       "      <td>0.000000</td>\n",
       "      <td>0.200000</td>\n",
       "      <td>0</td>\n",
       "      <td>0</td>\n",
       "      <td>1</td>\n",
       "      <td>0</td>\n",
       "      <td>...</td>\n",
       "      <td>0</td>\n",
       "      <td>0.0</td>\n",
       "      <td>0</td>\n",
       "      <td>0</td>\n",
       "      <td>0</td>\n",
       "      <td>0</td>\n",
       "      <td>1</td>\n",
       "      <td>0</td>\n",
       "      <td>0</td>\n",
       "      <td>0</td>\n",
       "    </tr>\n",
       "    <tr>\n",
       "      <td>1</td>\n",
       "      <td>0.000000</td>\n",
       "      <td>0.100000</td>\n",
       "      <td>2</td>\n",
       "      <td>0</td>\n",
       "      <td>64.000000</td>\n",
       "      <td>0.000000</td>\n",
       "      <td>0</td>\n",
       "      <td>1</td>\n",
       "      <td>1</td>\n",
       "      <td>0</td>\n",
       "      <td>...</td>\n",
       "      <td>0</td>\n",
       "      <td>0.0</td>\n",
       "      <td>0</td>\n",
       "      <td>0</td>\n",
       "      <td>1</td>\n",
       "      <td>0</td>\n",
       "      <td>1</td>\n",
       "      <td>0</td>\n",
       "      <td>0</td>\n",
       "      <td>0</td>\n",
       "    </tr>\n",
       "    <tr>\n",
       "      <td>2</td>\n",
       "      <td>0.000000</td>\n",
       "      <td>0.200000</td>\n",
       "      <td>1</td>\n",
       "      <td>0</td>\n",
       "      <td>0.000000</td>\n",
       "      <td>0.200000</td>\n",
       "      <td>0</td>\n",
       "      <td>0</td>\n",
       "      <td>1</td>\n",
       "      <td>0</td>\n",
       "      <td>...</td>\n",
       "      <td>0</td>\n",
       "      <td>0.0</td>\n",
       "      <td>0</td>\n",
       "      <td>0</td>\n",
       "      <td>0</td>\n",
       "      <td>0</td>\n",
       "      <td>1</td>\n",
       "      <td>0</td>\n",
       "      <td>0</td>\n",
       "      <td>0</td>\n",
       "    </tr>\n",
       "    <tr>\n",
       "      <td>3</td>\n",
       "      <td>0.000000</td>\n",
       "      <td>0.140000</td>\n",
       "      <td>2</td>\n",
       "      <td>0</td>\n",
       "      <td>2.666667</td>\n",
       "      <td>0.050000</td>\n",
       "      <td>0</td>\n",
       "      <td>0</td>\n",
       "      <td>1</td>\n",
       "      <td>0</td>\n",
       "      <td>...</td>\n",
       "      <td>1</td>\n",
       "      <td>0.0</td>\n",
       "      <td>0</td>\n",
       "      <td>0</td>\n",
       "      <td>0</td>\n",
       "      <td>0</td>\n",
       "      <td>1</td>\n",
       "      <td>0</td>\n",
       "      <td>0</td>\n",
       "      <td>0</td>\n",
       "    </tr>\n",
       "    <tr>\n",
       "      <td>4</td>\n",
       "      <td>0.000000</td>\n",
       "      <td>0.050000</td>\n",
       "      <td>10</td>\n",
       "      <td>0</td>\n",
       "      <td>627.500000</td>\n",
       "      <td>0.020000</td>\n",
       "      <td>0</td>\n",
       "      <td>0</td>\n",
       "      <td>1</td>\n",
       "      <td>0</td>\n",
       "      <td>...</td>\n",
       "      <td>1</td>\n",
       "      <td>0.0</td>\n",
       "      <td>0</td>\n",
       "      <td>0</td>\n",
       "      <td>0</td>\n",
       "      <td>0</td>\n",
       "      <td>1</td>\n",
       "      <td>0</td>\n",
       "      <td>0</td>\n",
       "      <td>0</td>\n",
       "    </tr>\n",
       "    <tr>\n",
       "      <td>...</td>\n",
       "      <td>...</td>\n",
       "      <td>...</td>\n",
       "      <td>...</td>\n",
       "      <td>...</td>\n",
       "      <td>...</td>\n",
       "      <td>...</td>\n",
       "      <td>...</td>\n",
       "      <td>...</td>\n",
       "      <td>...</td>\n",
       "      <td>...</td>\n",
       "      <td>...</td>\n",
       "      <td>...</td>\n",
       "      <td>...</td>\n",
       "      <td>...</td>\n",
       "      <td>...</td>\n",
       "      <td>...</td>\n",
       "      <td>...</td>\n",
       "      <td>...</td>\n",
       "      <td>...</td>\n",
       "      <td>...</td>\n",
       "      <td>...</td>\n",
       "    </tr>\n",
       "    <tr>\n",
       "      <td>12325</td>\n",
       "      <td>12.241717</td>\n",
       "      <td>0.029031</td>\n",
       "      <td>53</td>\n",
       "      <td>0</td>\n",
       "      <td>1783.791667</td>\n",
       "      <td>0.007143</td>\n",
       "      <td>3</td>\n",
       "      <td>0</td>\n",
       "      <td>1</td>\n",
       "      <td>0</td>\n",
       "      <td>...</td>\n",
       "      <td>0</td>\n",
       "      <td>0.0</td>\n",
       "      <td>0</td>\n",
       "      <td>0</td>\n",
       "      <td>0</td>\n",
       "      <td>0</td>\n",
       "      <td>0</td>\n",
       "      <td>0</td>\n",
       "      <td>0</td>\n",
       "      <td>1</td>\n",
       "    </tr>\n",
       "    <tr>\n",
       "      <td>12326</td>\n",
       "      <td>0.000000</td>\n",
       "      <td>0.021333</td>\n",
       "      <td>5</td>\n",
       "      <td>1</td>\n",
       "      <td>465.750000</td>\n",
       "      <td>0.000000</td>\n",
       "      <td>0</td>\n",
       "      <td>0</td>\n",
       "      <td>1</td>\n",
       "      <td>0</td>\n",
       "      <td>...</td>\n",
       "      <td>1</td>\n",
       "      <td>0.0</td>\n",
       "      <td>0</td>\n",
       "      <td>0</td>\n",
       "      <td>0</td>\n",
       "      <td>1</td>\n",
       "      <td>0</td>\n",
       "      <td>0</td>\n",
       "      <td>0</td>\n",
       "      <td>0</td>\n",
       "    </tr>\n",
       "    <tr>\n",
       "      <td>12327</td>\n",
       "      <td>0.000000</td>\n",
       "      <td>0.086667</td>\n",
       "      <td>6</td>\n",
       "      <td>1</td>\n",
       "      <td>184.250000</td>\n",
       "      <td>0.083333</td>\n",
       "      <td>0</td>\n",
       "      <td>0</td>\n",
       "      <td>1</td>\n",
       "      <td>0</td>\n",
       "      <td>...</td>\n",
       "      <td>1</td>\n",
       "      <td>0.0</td>\n",
       "      <td>1</td>\n",
       "      <td>0</td>\n",
       "      <td>0</td>\n",
       "      <td>0</td>\n",
       "      <td>0</td>\n",
       "      <td>0</td>\n",
       "      <td>0</td>\n",
       "      <td>0</td>\n",
       "    </tr>\n",
       "    <tr>\n",
       "      <td>12328</td>\n",
       "      <td>0.000000</td>\n",
       "      <td>0.021053</td>\n",
       "      <td>15</td>\n",
       "      <td>1</td>\n",
       "      <td>346.000000</td>\n",
       "      <td>0.000000</td>\n",
       "      <td>4</td>\n",
       "      <td>0</td>\n",
       "      <td>1</td>\n",
       "      <td>0</td>\n",
       "      <td>...</td>\n",
       "      <td>0</td>\n",
       "      <td>0.0</td>\n",
       "      <td>0</td>\n",
       "      <td>0</td>\n",
       "      <td>1</td>\n",
       "      <td>0</td>\n",
       "      <td>0</td>\n",
       "      <td>0</td>\n",
       "      <td>0</td>\n",
       "      <td>0</td>\n",
       "    </tr>\n",
       "    <tr>\n",
       "      <td>12329</td>\n",
       "      <td>0.000000</td>\n",
       "      <td>0.066667</td>\n",
       "      <td>3</td>\n",
       "      <td>1</td>\n",
       "      <td>21.250000</td>\n",
       "      <td>0.000000</td>\n",
       "      <td>0</td>\n",
       "      <td>1</td>\n",
       "      <td>0</td>\n",
       "      <td>0</td>\n",
       "      <td>...</td>\n",
       "      <td>1</td>\n",
       "      <td>0.0</td>\n",
       "      <td>0</td>\n",
       "      <td>0</td>\n",
       "      <td>0</td>\n",
       "      <td>0</td>\n",
       "      <td>0</td>\n",
       "      <td>0</td>\n",
       "      <td>0</td>\n",
       "      <td>0</td>\n",
       "    </tr>\n",
       "  </tbody>\n",
       "</table>\n",
       "<p>12330 rows × 24 columns</p>\n",
       "</div>"
      ],
      "text/plain": [
       "       PageValues  ExitRates  ProductRelated  Month_Nov  \\\n",
       "0        0.000000   0.200000               1          0   \n",
       "1        0.000000   0.100000               2          0   \n",
       "2        0.000000   0.200000               1          0   \n",
       "3        0.000000   0.140000               2          0   \n",
       "4        0.000000   0.050000              10          0   \n",
       "...           ...        ...             ...        ...   \n",
       "12325   12.241717   0.029031              53          0   \n",
       "12326    0.000000   0.021333               5          1   \n",
       "12327    0.000000   0.086667               6          1   \n",
       "12328    0.000000   0.021053              15          1   \n",
       "12329    0.000000   0.066667               3          1   \n",
       "\n",
       "       ProductRelated_Duration  BounceRates  Administrative  TrafficType_2  \\\n",
       "0                     0.000000     0.200000               0              0   \n",
       "1                    64.000000     0.000000               0              1   \n",
       "2                     0.000000     0.200000               0              0   \n",
       "3                     2.666667     0.050000               0              0   \n",
       "4                   627.500000     0.020000               0              0   \n",
       "...                        ...          ...             ...            ...   \n",
       "12325              1783.791667     0.007143               3              0   \n",
       "12326               465.750000     0.000000               0              0   \n",
       "12327               184.250000     0.083333               0              0   \n",
       "12328               346.000000     0.000000               4              0   \n",
       "12329                21.250000     0.000000               0              1   \n",
       "\n",
       "       VisitorType_Returning_Visitor  Informational  ...  OperatingSystems_3  \\\n",
       "0                                  1              0  ...                   0   \n",
       "1                                  1              0  ...                   0   \n",
       "2                                  1              0  ...                   0   \n",
       "3                                  1              0  ...                   1   \n",
       "4                                  1              0  ...                   1   \n",
       "...                              ...            ...  ...                 ...   \n",
       "12325                              1              0  ...                   0   \n",
       "12326                              1              0  ...                   1   \n",
       "12327                              1              0  ...                   1   \n",
       "12328                              1              0  ...                   0   \n",
       "12329                              0              0  ...                   1   \n",
       "\n",
       "       Informational_Duration  TrafficType_13  Month_Mar  OperatingSystems_2  \\\n",
       "0                         0.0               0          0                   0   \n",
       "1                         0.0               0          0                   1   \n",
       "2                         0.0               0          0                   0   \n",
       "3                         0.0               0          0                   0   \n",
       "4                         0.0               0          0                   0   \n",
       "...                       ...             ...        ...                 ...   \n",
       "12325                     0.0               0          0                   0   \n",
       "12326                     0.0               0          0                   0   \n",
       "12327                     0.0               1          0                   0   \n",
       "12328                     0.0               0          0                   1   \n",
       "12329                     0.0               0          0                   0   \n",
       "\n",
       "       TrafficType_8  Month_Feb  TrafficType_20  Month_Oct  Month_Dec  \n",
       "0                  0          1               0          0          0  \n",
       "1                  0          1               0          0          0  \n",
       "2                  0          1               0          0          0  \n",
       "3                  0          1               0          0          0  \n",
       "4                  0          1               0          0          0  \n",
       "...              ...        ...             ...        ...        ...  \n",
       "12325              0          0               0          0          1  \n",
       "12326              1          0               0          0          0  \n",
       "12327              0          0               0          0          0  \n",
       "12328              0          0               0          0          0  \n",
       "12329              0          0               0          0          0  \n",
       "\n",
       "[12330 rows x 24 columns]"
      ]
     },
     "execution_count": 58,
     "metadata": {},
     "output_type": "execute_result"
    }
   ],
   "source": [
    "X = X[X_columns]   #From now on, X will consist of only X_columns variables \n",
    "X                  #See what is x"
   ]
  },
  {
   "cell_type": "code",
   "execution_count": 59,
   "metadata": {},
   "outputs": [
    {
     "data": {
      "text/plain": [
       "['PageValues',\n",
       " 'ExitRates',\n",
       " 'ProductRelated',\n",
       " 'Month_Nov',\n",
       " 'ProductRelated_Duration',\n",
       " 'BounceRates',\n",
       " 'Administrative',\n",
       " 'TrafficType_2',\n",
       " 'VisitorType_Returning_Visitor',\n",
       " 'Informational',\n",
       " 'Administrative_Duration',\n",
       " 'TrafficType_3',\n",
       " 'SpecialDay',\n",
       " 'Month_May',\n",
       " 'OperatingSystems_3',\n",
       " 'Informational_Duration',\n",
       " 'TrafficType_13',\n",
       " 'Month_Mar',\n",
       " 'OperatingSystems_2',\n",
       " 'TrafficType_8',\n",
       " 'Month_Feb',\n",
       " 'TrafficType_20',\n",
       " 'Month_Oct',\n",
       " 'Month_Dec']"
      ]
     },
     "execution_count": 59,
     "metadata": {},
     "output_type": "execute_result"
    }
   ],
   "source": [
    "feature_names = list(X.columns) #Keep the columns of X for use in next steps such as feature importance\n",
    "feature_names                   #See what is feature_names"
   ]
  },
  {
   "cell_type": "code",
   "execution_count": 60,
   "metadata": {},
   "outputs": [],
   "source": [
    "scaler = StandardScaler()                           #Standard Scaler is selected to scale data\n",
    "X[num] = scaler.fit_transform(X[num].to_numpy())    #Applying standard scale to numerical variables"
   ]
  },
  {
   "cell_type": "code",
   "execution_count": 61,
   "metadata": {},
   "outputs": [
    {
     "data": {
      "text/html": [
       "<div>\n",
       "<style scoped>\n",
       "    .dataframe tbody tr th:only-of-type {\n",
       "        vertical-align: middle;\n",
       "    }\n",
       "\n",
       "    .dataframe tbody tr th {\n",
       "        vertical-align: top;\n",
       "    }\n",
       "\n",
       "    .dataframe thead th {\n",
       "        text-align: right;\n",
       "    }\n",
       "</style>\n",
       "<table border=\"1\" class=\"dataframe\">\n",
       "  <thead>\n",
       "    <tr style=\"text-align: right;\">\n",
       "      <th></th>\n",
       "      <th>PageValues</th>\n",
       "      <th>ExitRates</th>\n",
       "      <th>ProductRelated</th>\n",
       "      <th>Month_Nov</th>\n",
       "      <th>ProductRelated_Duration</th>\n",
       "      <th>BounceRates</th>\n",
       "      <th>Administrative</th>\n",
       "      <th>TrafficType_2</th>\n",
       "      <th>VisitorType_Returning_Visitor</th>\n",
       "      <th>Informational</th>\n",
       "      <th>...</th>\n",
       "      <th>OperatingSystems_3</th>\n",
       "      <th>Informational_Duration</th>\n",
       "      <th>TrafficType_13</th>\n",
       "      <th>Month_Mar</th>\n",
       "      <th>OperatingSystems_2</th>\n",
       "      <th>TrafficType_8</th>\n",
       "      <th>Month_Feb</th>\n",
       "      <th>TrafficType_20</th>\n",
       "      <th>Month_Oct</th>\n",
       "      <th>Month_Dec</th>\n",
       "    </tr>\n",
       "  </thead>\n",
       "  <tbody>\n",
       "    <tr>\n",
       "      <td>0</td>\n",
       "      <td>-0.317178</td>\n",
       "      <td>3.229316</td>\n",
       "      <td>-0.691003</td>\n",
       "      <td>0</td>\n",
       "      <td>-0.624348</td>\n",
       "      <td>3.667189</td>\n",
       "      <td>-0.696993</td>\n",
       "      <td>0</td>\n",
       "      <td>1</td>\n",
       "      <td>-0.396478</td>\n",
       "      <td>...</td>\n",
       "      <td>0</td>\n",
       "      <td>-0.244931</td>\n",
       "      <td>0</td>\n",
       "      <td>0</td>\n",
       "      <td>0</td>\n",
       "      <td>0</td>\n",
       "      <td>1</td>\n",
       "      <td>0</td>\n",
       "      <td>0</td>\n",
       "      <td>0</td>\n",
       "    </tr>\n",
       "    <tr>\n",
       "      <td>1</td>\n",
       "      <td>-0.317178</td>\n",
       "      <td>1.171473</td>\n",
       "      <td>-0.668518</td>\n",
       "      <td>0</td>\n",
       "      <td>-0.590903</td>\n",
       "      <td>-0.457683</td>\n",
       "      <td>-0.696993</td>\n",
       "      <td>1</td>\n",
       "      <td>1</td>\n",
       "      <td>-0.396478</td>\n",
       "      <td>...</td>\n",
       "      <td>0</td>\n",
       "      <td>-0.244931</td>\n",
       "      <td>0</td>\n",
       "      <td>0</td>\n",
       "      <td>1</td>\n",
       "      <td>0</td>\n",
       "      <td>1</td>\n",
       "      <td>0</td>\n",
       "      <td>0</td>\n",
       "      <td>0</td>\n",
       "    </tr>\n",
       "    <tr>\n",
       "      <td>2</td>\n",
       "      <td>-0.317178</td>\n",
       "      <td>3.229316</td>\n",
       "      <td>-0.691003</td>\n",
       "      <td>0</td>\n",
       "      <td>-0.624348</td>\n",
       "      <td>3.667189</td>\n",
       "      <td>-0.696993</td>\n",
       "      <td>0</td>\n",
       "      <td>1</td>\n",
       "      <td>-0.396478</td>\n",
       "      <td>...</td>\n",
       "      <td>0</td>\n",
       "      <td>-0.244931</td>\n",
       "      <td>0</td>\n",
       "      <td>0</td>\n",
       "      <td>0</td>\n",
       "      <td>0</td>\n",
       "      <td>1</td>\n",
       "      <td>0</td>\n",
       "      <td>0</td>\n",
       "      <td>0</td>\n",
       "    </tr>\n",
       "    <tr>\n",
       "      <td>3</td>\n",
       "      <td>-0.317178</td>\n",
       "      <td>1.994610</td>\n",
       "      <td>-0.668518</td>\n",
       "      <td>0</td>\n",
       "      <td>-0.622954</td>\n",
       "      <td>0.573535</td>\n",
       "      <td>-0.696993</td>\n",
       "      <td>0</td>\n",
       "      <td>1</td>\n",
       "      <td>-0.396478</td>\n",
       "      <td>...</td>\n",
       "      <td>1</td>\n",
       "      <td>-0.244931</td>\n",
       "      <td>0</td>\n",
       "      <td>0</td>\n",
       "      <td>0</td>\n",
       "      <td>0</td>\n",
       "      <td>1</td>\n",
       "      <td>0</td>\n",
       "      <td>0</td>\n",
       "      <td>0</td>\n",
       "    </tr>\n",
       "    <tr>\n",
       "      <td>4</td>\n",
       "      <td>-0.317178</td>\n",
       "      <td>0.142551</td>\n",
       "      <td>-0.488636</td>\n",
       "      <td>0</td>\n",
       "      <td>-0.296430</td>\n",
       "      <td>-0.045196</td>\n",
       "      <td>-0.696993</td>\n",
       "      <td>0</td>\n",
       "      <td>1</td>\n",
       "      <td>-0.396478</td>\n",
       "      <td>...</td>\n",
       "      <td>1</td>\n",
       "      <td>-0.244931</td>\n",
       "      <td>0</td>\n",
       "      <td>0</td>\n",
       "      <td>0</td>\n",
       "      <td>0</td>\n",
       "      <td>1</td>\n",
       "      <td>0</td>\n",
       "      <td>0</td>\n",
       "      <td>0</td>\n",
       "    </tr>\n",
       "  </tbody>\n",
       "</table>\n",
       "<p>5 rows × 24 columns</p>\n",
       "</div>"
      ],
      "text/plain": [
       "   PageValues  ExitRates  ProductRelated  Month_Nov  ProductRelated_Duration  \\\n",
       "0   -0.317178   3.229316       -0.691003          0                -0.624348   \n",
       "1   -0.317178   1.171473       -0.668518          0                -0.590903   \n",
       "2   -0.317178   3.229316       -0.691003          0                -0.624348   \n",
       "3   -0.317178   1.994610       -0.668518          0                -0.622954   \n",
       "4   -0.317178   0.142551       -0.488636          0                -0.296430   \n",
       "\n",
       "   BounceRates  Administrative  TrafficType_2  VisitorType_Returning_Visitor  \\\n",
       "0     3.667189       -0.696993              0                              1   \n",
       "1    -0.457683       -0.696993              1                              1   \n",
       "2     3.667189       -0.696993              0                              1   \n",
       "3     0.573535       -0.696993              0                              1   \n",
       "4    -0.045196       -0.696993              0                              1   \n",
       "\n",
       "   Informational  ...  OperatingSystems_3  Informational_Duration  \\\n",
       "0      -0.396478  ...                   0               -0.244931   \n",
       "1      -0.396478  ...                   0               -0.244931   \n",
       "2      -0.396478  ...                   0               -0.244931   \n",
       "3      -0.396478  ...                   1               -0.244931   \n",
       "4      -0.396478  ...                   1               -0.244931   \n",
       "\n",
       "   TrafficType_13  Month_Mar  OperatingSystems_2  TrafficType_8  Month_Feb  \\\n",
       "0               0          0                   0              0          1   \n",
       "1               0          0                   1              0          1   \n",
       "2               0          0                   0              0          1   \n",
       "3               0          0                   0              0          1   \n",
       "4               0          0                   0              0          1   \n",
       "\n",
       "   TrafficType_20  Month_Oct  Month_Dec  \n",
       "0               0          0          0  \n",
       "1               0          0          0  \n",
       "2               0          0          0  \n",
       "3               0          0          0  \n",
       "4               0          0          0  \n",
       "\n",
       "[5 rows x 24 columns]"
      ]
     },
     "execution_count": 61,
     "metadata": {},
     "output_type": "execute_result"
    }
   ],
   "source": [
    "X.head()   #Get the X after scaling process"
   ]
  },
  {
   "cell_type": "code",
   "execution_count": null,
   "metadata": {
    "id": "TiH5NzgUNFA7"
   },
   "outputs": [],
   "source": []
  },
  {
   "cell_type": "code",
   "execution_count": 62,
   "metadata": {
    "colab": {
     "base_uri": "https://localhost:8080/"
    },
    "id": "4MVXAU1vNFA7",
    "outputId": "546d8673-4c02-4b6f-9fd6-47f74fe30150"
   },
   "outputs": [
    {
     "data": {
      "text/html": [
       "<div>\n",
       "<style scoped>\n",
       "    .dataframe tbody tr th:only-of-type {\n",
       "        vertical-align: middle;\n",
       "    }\n",
       "\n",
       "    .dataframe tbody tr th {\n",
       "        vertical-align: top;\n",
       "    }\n",
       "\n",
       "    .dataframe thead th {\n",
       "        text-align: right;\n",
       "    }\n",
       "</style>\n",
       "<table border=\"1\" class=\"dataframe\">\n",
       "  <thead>\n",
       "    <tr style=\"text-align: right;\">\n",
       "      <th></th>\n",
       "      <th>PageValues</th>\n",
       "      <th>ExitRates</th>\n",
       "      <th>ProductRelated</th>\n",
       "      <th>Month_Nov</th>\n",
       "      <th>ProductRelated_Duration</th>\n",
       "      <th>BounceRates</th>\n",
       "      <th>Administrative</th>\n",
       "      <th>TrafficType_2</th>\n",
       "      <th>VisitorType_Returning_Visitor</th>\n",
       "      <th>Informational</th>\n",
       "      <th>...</th>\n",
       "      <th>OperatingSystems_3</th>\n",
       "      <th>Informational_Duration</th>\n",
       "      <th>TrafficType_13</th>\n",
       "      <th>Month_Mar</th>\n",
       "      <th>OperatingSystems_2</th>\n",
       "      <th>TrafficType_8</th>\n",
       "      <th>Month_Feb</th>\n",
       "      <th>TrafficType_20</th>\n",
       "      <th>Month_Oct</th>\n",
       "      <th>Month_Dec</th>\n",
       "    </tr>\n",
       "  </thead>\n",
       "  <tbody>\n",
       "    <tr>\n",
       "      <td>10385</td>\n",
       "      <td>3.872983</td>\n",
       "      <td>-0.780840</td>\n",
       "      <td>0.051008</td>\n",
       "      <td>0</td>\n",
       "      <td>-0.161093</td>\n",
       "      <td>-0.457683</td>\n",
       "      <td>1.410394</td>\n",
       "      <td>1</td>\n",
       "      <td>0</td>\n",
       "      <td>1.965532</td>\n",
       "      <td>...</td>\n",
       "      <td>0</td>\n",
       "      <td>1.518323</td>\n",
       "      <td>0</td>\n",
       "      <td>0</td>\n",
       "      <td>1</td>\n",
       "      <td>0</td>\n",
       "      <td>0</td>\n",
       "      <td>0</td>\n",
       "      <td>0</td>\n",
       "      <td>1</td>\n",
       "    </tr>\n",
       "    <tr>\n",
       "      <td>8823</td>\n",
       "      <td>-0.317178</td>\n",
       "      <td>0.142551</td>\n",
       "      <td>-0.623548</td>\n",
       "      <td>1</td>\n",
       "      <td>-0.596324</td>\n",
       "      <td>-0.457683</td>\n",
       "      <td>-0.696993</td>\n",
       "      <td>0</td>\n",
       "      <td>1</td>\n",
       "      <td>-0.396478</td>\n",
       "      <td>...</td>\n",
       "      <td>1</td>\n",
       "      <td>-0.244931</td>\n",
       "      <td>0</td>\n",
       "      <td>0</td>\n",
       "      <td>0</td>\n",
       "      <td>0</td>\n",
       "      <td>0</td>\n",
       "      <td>0</td>\n",
       "      <td>0</td>\n",
       "      <td>0</td>\n",
       "    </tr>\n",
       "    <tr>\n",
       "      <td>5298</td>\n",
       "      <td>-0.317178</td>\n",
       "      <td>0.142551</td>\n",
       "      <td>-0.668518</td>\n",
       "      <td>0</td>\n",
       "      <td>-0.561116</td>\n",
       "      <td>-0.457683</td>\n",
       "      <td>-0.696993</td>\n",
       "      <td>0</td>\n",
       "      <td>1</td>\n",
       "      <td>-0.396478</td>\n",
       "      <td>...</td>\n",
       "      <td>1</td>\n",
       "      <td>-0.244931</td>\n",
       "      <td>0</td>\n",
       "      <td>0</td>\n",
       "      <td>0</td>\n",
       "      <td>0</td>\n",
       "      <td>0</td>\n",
       "      <td>0</td>\n",
       "      <td>0</td>\n",
       "      <td>0</td>\n",
       "    </tr>\n",
       "    <tr>\n",
       "      <td>10187</td>\n",
       "      <td>-0.317178</td>\n",
       "      <td>-0.078477</td>\n",
       "      <td>-0.331240</td>\n",
       "      <td>1</td>\n",
       "      <td>-0.524688</td>\n",
       "      <td>0.000636</td>\n",
       "      <td>-0.696993</td>\n",
       "      <td>0</td>\n",
       "      <td>1</td>\n",
       "      <td>1.178195</td>\n",
       "      <td>...</td>\n",
       "      <td>1</td>\n",
       "      <td>-0.095723</td>\n",
       "      <td>1</td>\n",
       "      <td>0</td>\n",
       "      <td>0</td>\n",
       "      <td>0</td>\n",
       "      <td>0</td>\n",
       "      <td>0</td>\n",
       "      <td>0</td>\n",
       "      <td>0</td>\n",
       "    </tr>\n",
       "    <tr>\n",
       "      <td>11018</td>\n",
       "      <td>-0.317178</td>\n",
       "      <td>-0.512217</td>\n",
       "      <td>-0.466151</td>\n",
       "      <td>1</td>\n",
       "      <td>-0.547790</td>\n",
       "      <td>-0.082695</td>\n",
       "      <td>-0.696993</td>\n",
       "      <td>1</td>\n",
       "      <td>0</td>\n",
       "      <td>-0.396478</td>\n",
       "      <td>...</td>\n",
       "      <td>0</td>\n",
       "      <td>-0.244931</td>\n",
       "      <td>0</td>\n",
       "      <td>0</td>\n",
       "      <td>0</td>\n",
       "      <td>0</td>\n",
       "      <td>0</td>\n",
       "      <td>0</td>\n",
       "      <td>0</td>\n",
       "      <td>0</td>\n",
       "    </tr>\n",
       "    <tr>\n",
       "      <td>...</td>\n",
       "      <td>...</td>\n",
       "      <td>...</td>\n",
       "      <td>...</td>\n",
       "      <td>...</td>\n",
       "      <td>...</td>\n",
       "      <td>...</td>\n",
       "      <td>...</td>\n",
       "      <td>...</td>\n",
       "      <td>...</td>\n",
       "      <td>...</td>\n",
       "      <td>...</td>\n",
       "      <td>...</td>\n",
       "      <td>...</td>\n",
       "      <td>...</td>\n",
       "      <td>...</td>\n",
       "      <td>...</td>\n",
       "      <td>...</td>\n",
       "      <td>...</td>\n",
       "      <td>...</td>\n",
       "      <td>...</td>\n",
       "      <td>...</td>\n",
       "    </tr>\n",
       "    <tr>\n",
       "      <td>11964</td>\n",
       "      <td>-0.317178</td>\n",
       "      <td>-0.563790</td>\n",
       "      <td>-0.151358</td>\n",
       "      <td>1</td>\n",
       "      <td>-0.241641</td>\n",
       "      <td>-0.457683</td>\n",
       "      <td>3.517781</td>\n",
       "      <td>1</td>\n",
       "      <td>1</td>\n",
       "      <td>-0.396478</td>\n",
       "      <td>...</td>\n",
       "      <td>1</td>\n",
       "      <td>-0.244931</td>\n",
       "      <td>0</td>\n",
       "      <td>0</td>\n",
       "      <td>0</td>\n",
       "      <td>0</td>\n",
       "      <td>0</td>\n",
       "      <td>0</td>\n",
       "      <td>0</td>\n",
       "      <td>0</td>\n",
       "    </tr>\n",
       "    <tr>\n",
       "      <td>5191</td>\n",
       "      <td>0.942430</td>\n",
       "      <td>-0.569779</td>\n",
       "      <td>-0.398696</td>\n",
       "      <td>0</td>\n",
       "      <td>-0.446671</td>\n",
       "      <td>-0.457683</td>\n",
       "      <td>-0.696993</td>\n",
       "      <td>0</td>\n",
       "      <td>1</td>\n",
       "      <td>-0.396478</td>\n",
       "      <td>...</td>\n",
       "      <td>0</td>\n",
       "      <td>-0.244931</td>\n",
       "      <td>0</td>\n",
       "      <td>0</td>\n",
       "      <td>1</td>\n",
       "      <td>0</td>\n",
       "      <td>0</td>\n",
       "      <td>0</td>\n",
       "      <td>0</td>\n",
       "      <td>0</td>\n",
       "    </tr>\n",
       "    <tr>\n",
       "      <td>5390</td>\n",
       "      <td>-0.317178</td>\n",
       "      <td>0.485525</td>\n",
       "      <td>-0.646033</td>\n",
       "      <td>0</td>\n",
       "      <td>-0.525580</td>\n",
       "      <td>-0.457683</td>\n",
       "      <td>-0.696993</td>\n",
       "      <td>0</td>\n",
       "      <td>1</td>\n",
       "      <td>-0.396478</td>\n",
       "      <td>...</td>\n",
       "      <td>0</td>\n",
       "      <td>-0.244931</td>\n",
       "      <td>0</td>\n",
       "      <td>0</td>\n",
       "      <td>1</td>\n",
       "      <td>0</td>\n",
       "      <td>0</td>\n",
       "      <td>0</td>\n",
       "      <td>0</td>\n",
       "      <td>0</td>\n",
       "    </tr>\n",
       "    <tr>\n",
       "      <td>860</td>\n",
       "      <td>-0.317178</td>\n",
       "      <td>-0.543397</td>\n",
       "      <td>-0.421181</td>\n",
       "      <td>0</td>\n",
       "      <td>-0.464961</td>\n",
       "      <td>-0.457683</td>\n",
       "      <td>-0.696993</td>\n",
       "      <td>1</td>\n",
       "      <td>0</td>\n",
       "      <td>-0.396478</td>\n",
       "      <td>...</td>\n",
       "      <td>0</td>\n",
       "      <td>-0.244931</td>\n",
       "      <td>0</td>\n",
       "      <td>1</td>\n",
       "      <td>0</td>\n",
       "      <td>0</td>\n",
       "      <td>0</td>\n",
       "      <td>0</td>\n",
       "      <td>0</td>\n",
       "      <td>0</td>\n",
       "    </tr>\n",
       "    <tr>\n",
       "      <td>7270</td>\n",
       "      <td>-0.317178</td>\n",
       "      <td>-0.295400</td>\n",
       "      <td>-0.511122</td>\n",
       "      <td>0</td>\n",
       "      <td>-0.502948</td>\n",
       "      <td>-0.457683</td>\n",
       "      <td>1.410394</td>\n",
       "      <td>1</td>\n",
       "      <td>1</td>\n",
       "      <td>-0.396478</td>\n",
       "      <td>...</td>\n",
       "      <td>0</td>\n",
       "      <td>-0.244931</td>\n",
       "      <td>0</td>\n",
       "      <td>0</td>\n",
       "      <td>1</td>\n",
       "      <td>0</td>\n",
       "      <td>0</td>\n",
       "      <td>0</td>\n",
       "      <td>1</td>\n",
       "      <td>0</td>\n",
       "    </tr>\n",
       "  </tbody>\n",
       "</table>\n",
       "<p>9247 rows × 24 columns</p>\n",
       "</div>"
      ],
      "text/plain": [
       "       PageValues  ExitRates  ProductRelated  Month_Nov  \\\n",
       "10385    3.872983  -0.780840        0.051008          0   \n",
       "8823    -0.317178   0.142551       -0.623548          1   \n",
       "5298    -0.317178   0.142551       -0.668518          0   \n",
       "10187   -0.317178  -0.078477       -0.331240          1   \n",
       "11018   -0.317178  -0.512217       -0.466151          1   \n",
       "...           ...        ...             ...        ...   \n",
       "11964   -0.317178  -0.563790       -0.151358          1   \n",
       "5191     0.942430  -0.569779       -0.398696          0   \n",
       "5390    -0.317178   0.485525       -0.646033          0   \n",
       "860     -0.317178  -0.543397       -0.421181          0   \n",
       "7270    -0.317178  -0.295400       -0.511122          0   \n",
       "\n",
       "       ProductRelated_Duration  BounceRates  Administrative  TrafficType_2  \\\n",
       "10385                -0.161093    -0.457683        1.410394              1   \n",
       "8823                 -0.596324    -0.457683       -0.696993              0   \n",
       "5298                 -0.561116    -0.457683       -0.696993              0   \n",
       "10187                -0.524688     0.000636       -0.696993              0   \n",
       "11018                -0.547790    -0.082695       -0.696993              1   \n",
       "...                        ...          ...             ...            ...   \n",
       "11964                -0.241641    -0.457683        3.517781              1   \n",
       "5191                 -0.446671    -0.457683       -0.696993              0   \n",
       "5390                 -0.525580    -0.457683       -0.696993              0   \n",
       "860                  -0.464961    -0.457683       -0.696993              1   \n",
       "7270                 -0.502948    -0.457683        1.410394              1   \n",
       "\n",
       "       VisitorType_Returning_Visitor  Informational  ...  OperatingSystems_3  \\\n",
       "10385                              0       1.965532  ...                   0   \n",
       "8823                               1      -0.396478  ...                   1   \n",
       "5298                               1      -0.396478  ...                   1   \n",
       "10187                              1       1.178195  ...                   1   \n",
       "11018                              0      -0.396478  ...                   0   \n",
       "...                              ...            ...  ...                 ...   \n",
       "11964                              1      -0.396478  ...                   1   \n",
       "5191                               1      -0.396478  ...                   0   \n",
       "5390                               1      -0.396478  ...                   0   \n",
       "860                                0      -0.396478  ...                   0   \n",
       "7270                               1      -0.396478  ...                   0   \n",
       "\n",
       "       Informational_Duration  TrafficType_13  Month_Mar  OperatingSystems_2  \\\n",
       "10385                1.518323               0          0                   1   \n",
       "8823                -0.244931               0          0                   0   \n",
       "5298                -0.244931               0          0                   0   \n",
       "10187               -0.095723               1          0                   0   \n",
       "11018               -0.244931               0          0                   0   \n",
       "...                       ...             ...        ...                 ...   \n",
       "11964               -0.244931               0          0                   0   \n",
       "5191                -0.244931               0          0                   1   \n",
       "5390                -0.244931               0          0                   1   \n",
       "860                 -0.244931               0          1                   0   \n",
       "7270                -0.244931               0          0                   1   \n",
       "\n",
       "       TrafficType_8  Month_Feb  TrafficType_20  Month_Oct  Month_Dec  \n",
       "10385              0          0               0          0          1  \n",
       "8823               0          0               0          0          0  \n",
       "5298               0          0               0          0          0  \n",
       "10187              0          0               0          0          0  \n",
       "11018              0          0               0          0          0  \n",
       "...              ...        ...             ...        ...        ...  \n",
       "11964              0          0               0          0          0  \n",
       "5191               0          0               0          0          0  \n",
       "5390               0          0               0          0          0  \n",
       "860                0          0               0          0          0  \n",
       "7270               0          0               0          1          0  \n",
       "\n",
       "[9247 rows x 24 columns]"
      ]
     },
     "execution_count": 62,
     "metadata": {},
     "output_type": "execute_result"
    }
   ],
   "source": [
    "#Split X and y as X_train, X_test and y_train, y_test. Test size is also defined as 0.25\n",
    "X_train, X_test, y_train, y_test = train_test_split(X,y,test_size = 0.25, random_state = 42) \n",
    "X_train"
   ]
  },
  {
   "cell_type": "markdown",
   "metadata": {},
   "source": [
    "##### SMOTE"
   ]
  },
  {
   "cell_type": "markdown",
   "metadata": {},
   "source": [
    "We create new examples for our minority class by generating synthetic data with SMOTE(Synthetic Minority Oversampling Technique). We are trying to solve the uneven distribution with SMOTE."
   ]
  },
  {
   "cell_type": "code",
   "execution_count": 63,
   "metadata": {
    "id": "HoyQhK8qyxcg"
   },
   "outputs": [],
   "source": [
    "#SMOTE(Synthetic Minority Oversampling Technique)\n",
    "def smotify(X_train, y_train):               #Define smotify function based train data\n",
    "  smt = SMOTE()                              #Call SMOTE as smt\n",
    "  return smt.fit_sample(X_train, y_train)    #Return as fitted smt for train data"
   ]
  },
  {
   "cell_type": "code",
   "execution_count": 64,
   "metadata": {
    "colab": {
     "base_uri": "https://localhost:8080/"
    },
    "id": "qQatQxZlWpqh",
    "outputId": "046e769f-a88d-4d7c-91e8-97ab3837c613"
   },
   "outputs": [
    {
     "data": {
      "text/plain": [
       "{0: 7828, 1: 1419}"
      ]
     },
     "execution_count": 64,
     "metadata": {},
     "output_type": "execute_result"
    }
   ],
   "source": [
    "unique, count = np.unique(y_train, return_counts=True) #There is 2 unique value which are 7818 times 0 and 1419 times 1 on y_train.\n",
    "y_train_dict_value_count = { k:v for (k,v) in zip(unique, count)} #Assign a dictionary which represents unique values their counts to y_train_dict_value_count\n",
    "y_train_dict_value_count   #Get the keys and values of y_train_dict_value_count"
   ]
  },
  {
   "cell_type": "code",
   "execution_count": 65,
   "metadata": {
    "id": "g3od3oKPWpzJ"
   },
   "outputs": [],
   "source": [
    "sm = SMOTE(random_state=12,sampling_strategy =1)   #Obtaining synthetic samples for train data thanks to SMOTE\n",
    "X_train_res, y_train_res = sm.fit_resample(X_train, y_train)"
   ]
  },
  {
   "cell_type": "code",
   "execution_count": 66,
   "metadata": {
    "colab": {
     "base_uri": "https://localhost:8080/"
    },
    "id": "y5zQoPTeWp-D",
    "outputId": "84c6c87a-206e-464c-9c77-f07aba75a3a0"
   },
   "outputs": [
    {
     "data": {
      "text/plain": [
       "{0: 7828, 1: 7828}"
      ]
     },
     "execution_count": 66,
     "metadata": {},
     "output_type": "execute_result"
    }
   ],
   "source": [
    "unique, count = np.unique(y_train_res, return_counts=True)\n",
    "y_train_smote_value_count = { k:v for (k,v) in zip(unique, count)}\n",
    "y_train_smote_value_count   #Thanks to the SMOTE method, 1 as much as 0 was obtained in total (7828)."
   ]
  },
  {
   "cell_type": "markdown",
   "metadata": {
    "id": "86rvg2roNFA9"
   },
   "source": [
    "### MODELING"
   ]
  },
  {
   "cell_type": "markdown",
   "metadata": {},
   "source": [
    "Many models were tried in the modeling part, but considering the success levels in model evaluation measurements and the fact that time is a cost, Random Forest Classifier, LightGBM Classifier and AdaBoost Classifier models were preferred. Although more successful model results were obtained (e.g., the waiting time for XGBoost, the winning model of many of the competitions in Kaggle (4 hours 2 minutes), was approximately 10 times longer than the waiting time of the AdaBoost model (23 minutes)), but the success level was not very different. Also, the success metrics of some models, such as the KNN Classifier, dropped after the SMOTE process was included in the notebook. In addition, generally ensemble learning models were chosen because in this dataset they accurately reflect the general belief that ensemble learning models are less affected by outliers. "
   ]
  },
  {
   "cell_type": "markdown",
   "metadata": {
    "id": "-4YEh6AZNFBD"
   },
   "source": [
    "#### RANDOM FOREST"
   ]
  },
  {
   "cell_type": "code",
   "execution_count": 67,
   "metadata": {
    "id": "Z8kMoliONFBD"
   },
   "outputs": [],
   "source": [
    "rf_model = RandomForestClassifier()   #Set the Random Forest Classifier model"
   ]
  },
  {
   "cell_type": "code",
   "execution_count": 68,
   "metadata": {
    "id": "50IHYPMvNFBD"
   },
   "outputs": [],
   "source": [
    "rf_model.fit(X_train_res, y_train_res)   #Fit Random Forest model\n",
    "y_pred = rf_model.predict(X_test)        #Predict y values according to X_test"
   ]
  },
  {
   "cell_type": "code",
   "execution_count": 69,
   "metadata": {
    "colab": {
     "base_uri": "https://localhost:8080/"
    },
    "id": "UHRudVHvNFBD",
    "outputId": "21122040-96cd-4d5a-a56f-23a84ab9c286"
   },
   "outputs": [
    {
     "name": "stdout",
     "output_type": "stream",
     "text": [
      "----------------------------\n",
      "Random Forest:\n",
      "----------------------------\n",
      "\n",
      "Accuracy: 88.3879%\n",
      "\n",
      " Recall : 0.7382413087934561\n",
      "\n",
      " Precision : 0.61082910321489\n",
      "\n",
      " F1 Score : 0.6685185185185185\n"
     ]
    }
   ],
   "source": [
    "accuracy = accuracy_score(y_test, y_pred)                 #Calculation of accuracy score for y_test and y_pred\n",
    "recall = recall_score(y_test,y_pred)                      #Calculation of recall score for y_test and y_pred\n",
    "precision = precision_score(y_test,y_pred)                #Calculation of precision score for y_test and y_pred\n",
    "f1_score = 2*(recall*precision) / (recall + precision)    #Calculation of f1 score according to formulation which consists of recall and precision\n",
    "\n",
    "print(\"-\"*28)                                             #Create a line with -\n",
    "print(\"Random Forest:\" )                                  #Print Random Forest:\n",
    "print(\"-\"*28)                                             #Create a line with -\n",
    "print(\"\\nAccuracy: {:.4%}\".format(accuracy))              #Print Accuracy score: accuracy_score\n",
    "print('\\n','Recall : '+str(recall))                       #Print Recall score: recall_score\n",
    "print('\\n','Precision : '+str(precision))                 #Print Precision: precision_score\n",
    "print('\\n','F1 Score : '+str(f1_score))                   #Print F1 Score: f1_score"
   ]
  },
  {
   "cell_type": "code",
   "execution_count": 70,
   "metadata": {},
   "outputs": [
    {
     "name": "stdout",
     "output_type": "stream",
     "text": [
      "              precision    recall  f1-score   support\n",
      "\n",
      "           0       0.95      0.91      0.93      2594\n",
      "           1       0.61      0.74      0.67       489\n",
      "\n",
      "    accuracy                           0.88      3083\n",
      "   macro avg       0.78      0.82      0.80      3083\n",
      "weighted avg       0.90      0.88      0.89      3083\n",
      "\n"
     ]
    }
   ],
   "source": [
    "print(classification_report(y_test, y_pred))   #Get classification report according to y_test and y_pred"
   ]
  },
  {
   "cell_type": "markdown",
   "metadata": {
    "id": "Z7YmdB61NFBD"
   },
   "source": [
    "##### Random Forest Feature Importance"
   ]
  },
  {
   "cell_type": "code",
   "execution_count": 71,
   "metadata": {
    "colab": {
     "base_uri": "https://localhost:8080/",
     "height": 35
    },
    "id": "ub7ZF7upNFBE",
    "outputId": "5eeabf20-db8d-4fa7-cdf2-41165bcf8eb2"
   },
   "outputs": [],
   "source": [
    "features = pd.DataFrame(X_train).columns     #Get the X_train columns as features  \n",
    "importances = rf_model.feature_importances_  #Assign feature importance values to importances\n",
    "indices = np.argsort(importances)            #Sort features according to their importances values "
   ]
  },
  {
   "cell_type": "code",
   "execution_count": 72,
   "metadata": {},
   "outputs": [
    {
     "data": {
      "text/plain": [
       "<matplotlib.axes._subplots.AxesSubplot at 0x21a8873ed88>"
      ]
     },
     "execution_count": 72,
     "metadata": {},
     "output_type": "execute_result"
    },
    {
     "data": {
      "image/png": "[encoded data removed]",
      "text/plain": [
       "<Figure size 432x288 with 1 Axes>"
      ]
     },
     "metadata": {
      "needs_background": "light"
     },
     "output_type": "display_data"
    }
   ],
   "source": [
    "feat_importances = pd.Series(importances, index=feature_names)   #Get feature importances with indexes as feat_importances\n",
    "feat_importances.nlargest(24).plot(kind='bar',color = '#79CCB3') #Plot 24 features' importances as bar chart"
   ]
  },
  {
   "cell_type": "markdown",
   "metadata": {},
   "source": [
    "##### Random Forest Tuning"
   ]
  },
  {
   "cell_type": "code",
   "execution_count": 73,
   "metadata": {
    "id": "mfYoHWw8NFBE"
   },
   "outputs": [],
   "source": [
    "rf_params = {\"max_depth\": [2,5,8,10],       #The maximum depth of the tree \n",
    "            \"max_features\": [2,5,8],        #The number of features to consider when looking for the best split\n",
    "            \"n_estimators\": [100,500,1000], #The number of trees in the forest\n",
    "            \"min_samples_split\": [2,5,10]}  #The minimum number of samples required to split an internal node"
   ]
  },
  {
   "cell_type": "code",
   "execution_count": 74,
   "metadata": {
    "id": "tyhwoZfQNFBF"
   },
   "outputs": [],
   "source": [
    "rf_model = RandomForestClassifier()\n",
    "\n",
    "rf_cv_model = GridSearchCV(rf_model,    #Applying cross validation to the model\n",
    "                           rf_params,   #Search best result in given parameters\n",
    "                           cv = 10,     #Perform 10-Fold cross validation\n",
    "                           n_jobs = -1, #n_jobs = 1 means using all processors\n",
    "                           verbose = 2) #Controls the verbosity: the higher, the more messages"
   ]
  },
  {
   "cell_type": "code",
   "execution_count": 75,
   "metadata": {
    "id": "9NRo8iCQNFBF"
   },
   "outputs": [
    {
     "name": "stdout",
     "output_type": "stream",
     "text": [
      "Fitting 10 folds for each of 108 candidates, totalling 1080 fits\n"
     ]
    },
    {
     "data": {
      "text/plain": [
       "GridSearchCV(cv=10, estimator=RandomForestClassifier(), n_jobs=-1,\n",
       "             param_grid={'max_depth': [2, 5, 8, 10], 'max_features': [2, 5, 8],\n",
       "                         'min_samples_split': [2, 5, 10],\n",
       "                         'n_estimators': [100, 500, 1000]},\n",
       "             verbose=2)"
      ]
     },
     "execution_count": 75,
     "metadata": {},
     "output_type": "execute_result"
    }
   ],
   "source": [
    "rf_cv_model.fit(X_train_res, y_train_res)  #Fit model with cross validation"
   ]
  },
  {
   "cell_type": "code",
   "execution_count": 76,
   "metadata": {
    "id": "6qilqEEbNFBG"
   },
   "outputs": [
    {
     "name": "stdout",
     "output_type": "stream",
     "text": [
      "The best parameters: {'max_depth': 10, 'max_features': 8, 'min_samples_split': 2, 'n_estimators': 500}\n"
     ]
    }
   ],
   "source": [
    "print(\"The best parameters: \" + str(rf_cv_model.best_params_))  #Print best parameters on given parameters"
   ]
  },
  {
   "cell_type": "code",
   "execution_count": 77,
   "metadata": {
    "id": "saaeG5KBNFBG"
   },
   "outputs": [
    {
     "data": {
      "text/plain": [
       "RandomForestClassifier(max_depth=10, max_features=8, n_estimators=500)"
      ]
     },
     "execution_count": 77,
     "metadata": {},
     "output_type": "execute_result"
    }
   ],
   "source": [
    "#Tune the model with the best parameters\n",
    "rf_tuned = RandomForestClassifier(max_depth = 10, \n",
    "                                  max_features = 8, \n",
    "                                  min_samples_split = 2,\n",
    "                                  n_estimators = 500)\n",
    "\n",
    "rf_tuned.fit(X_train_res, y_train_res)  #Fit the model with best parameters"
   ]
  },
  {
   "cell_type": "code",
   "execution_count": 78,
   "metadata": {
    "id": "fZSBH8OcNFBG"
   },
   "outputs": [
    {
     "data": {
      "text/plain": [
       "0.8770677911125527"
      ]
     },
     "execution_count": 78,
     "metadata": {},
     "output_type": "execute_result"
    }
   ],
   "source": [
    "y_pred = rf_tuned.predict(X_test) #Prediction according to tuned model\n",
    "accuracy_score(y_test, y_pred)    #Accuracy score acording to tuned model"
   ]
  },
  {
   "cell_type": "markdown",
   "metadata": {
    "id": "OJ-P1aJ2NFBR"
   },
   "source": [
    "#### LIGHTGBM"
   ]
  },
  {
   "cell_type": "code",
   "execution_count": 79,
   "metadata": {},
   "outputs": [],
   "source": [
    "lgbm_model = LGBMClassifier().fit(X_train_res, y_train_res) #Set and fit Light GBM Classifier model\n",
    "y_pred = lgbm_model.predict(X_test)                         #Predict y values according to X_test"
   ]
  },
  {
   "cell_type": "code",
   "execution_count": 80,
   "metadata": {},
   "outputs": [
    {
     "name": "stdout",
     "output_type": "stream",
     "text": [
      "----------------------------\n",
      "LightGBM:\n",
      "----------------------------\n",
      "\n",
      "Accuracy: 88.0636%\n",
      "\n",
      " Recall : 0.7177914110429447\n",
      "\n",
      " Precision : 0.6041308089500861\n",
      "\n",
      " F1 Score : 0.6560747663551403\n"
     ]
    }
   ],
   "source": [
    "accuracy = accuracy_score(y_test, y_pred)                 #Calculation of accuracy score for y_test and y_pred\n",
    "recall = recall_score(y_test,y_pred)                      #Calculation of recall score for y_test and y_pred\n",
    "precision = precision_score(y_test,y_pred)                #Calculation of precision score for y_test and y_pred\n",
    "f1_score = 2*(recall*precision) / (recall + precision)    #Calculation of f1 score according to formulation which consists of recall and precision\n",
    "\n",
    "print(\"-\"*28)                                             #Create a line with -\n",
    "print(\"LightGBM:\" )                                       #Print LightGBM:\n",
    "print(\"-\"*28)                                             #Create a line with -\n",
    "print(\"\\nAccuracy: {:.4%}\".format(accuracy))              #Print Accuracy Score: accuracy_score\n",
    "print('\\n','Recall : '+str(recall))                       #Print Recall Score: recall_score\n",
    "print('\\n','Precision : '+str(precision))                 #Print Precision Score: precision_score\n",
    "print('\\n','F1 Score : '+str(f1_score))                   #Print F1 Score: f1_score"
   ]
  },
  {
   "cell_type": "code",
   "execution_count": 81,
   "metadata": {},
   "outputs": [
    {
     "name": "stdout",
     "output_type": "stream",
     "text": [
      "              precision    recall  f1-score   support\n",
      "\n",
      "           0       0.94      0.91      0.93      2594\n",
      "           1       0.60      0.72      0.66       489\n",
      "\n",
      "    accuracy                           0.88      3083\n",
      "   macro avg       0.77      0.81      0.79      3083\n",
      "weighted avg       0.89      0.88      0.88      3083\n",
      "\n"
     ]
    }
   ],
   "source": [
    "print(classification_report(y_test, y_pred))   #Get classification report according to y_test and y_pred"
   ]
  },
  {
   "cell_type": "markdown",
   "metadata": {},
   "source": [
    "##### LightGBM Feature Importance"
   ]
  },
  {
   "cell_type": "code",
   "execution_count": 82,
   "metadata": {},
   "outputs": [],
   "source": [
    "features = pd.DataFrame(X_train).columns      #Get the X_train columns as features \n",
    "importances = lgbm_model.feature_importances_ #Assign feature importance values to importances\n",
    "indices = np.argsort(importances)             #Sort features according to their importances values "
   ]
  },
  {
   "cell_type": "code",
   "execution_count": 83,
   "metadata": {},
   "outputs": [
    {
     "data": {
      "text/plain": [
       "<matplotlib.axes._subplots.AxesSubplot at 0x21a88646808>"
      ]
     },
     "execution_count": 83,
     "metadata": {},
     "output_type": "execute_result"
    },
    {
     "data": {
      "image/png": "[encoded data removed]",
      "text/plain": [
       "<Figure size 432x288 with 1 Axes>"
      ]
     },
     "metadata": {
      "needs_background": "light"
     },
     "output_type": "display_data"
    }
   ],
   "source": [
    "feat_importances = pd.Series(importances, index=feature_names)     #Get feature importances with indexes as feat_importances\n",
    "feat_importances.nlargest(24).plot(kind='bar',color = '#79CCB3')   #Plot 24 features' importances as bar chart"
   ]
  },
  {
   "cell_type": "markdown",
   "metadata": {},
   "source": [
    "##### LightGBM Tuning"
   ]
  },
  {
   "cell_type": "code",
   "execution_count": 84,
   "metadata": {},
   "outputs": [],
   "source": [
    "lgbm_params = {\n",
    "        'n_estimators': [100, 500, 1000, 2000], #Number of boosted trees to fit.\n",
    "        'subsample': [0.6, 0.8, 1.0],           #Subsample ratio of the training instance\n",
    "        'max_depth': [3, 4, 5,6],               #Maximum tree depth for base learners\n",
    "        'learning_rate': [0.1,0.01,0.02,0.05],  #Boosting learning rate\n",
    "        \"min_child_samples\": [5,10,20]}         #Minimum number of data needed in a child (leaf)"
   ]
  },
  {
   "cell_type": "code",
   "execution_count": 85,
   "metadata": {},
   "outputs": [],
   "source": [
    "lgbm = LGBMClassifier()\n",
    "\n",
    "lgbm_cv_model = GridSearchCV(lgbm,             #Applying cross validation to the model\n",
    "                             lgbm_params,      #Search best result in given parameters\n",
    "                             cv = 10,          #Perform 10-Fold cross validation\n",
    "                             n_jobs = -1,      #n_jobs = 1 means using all processors\n",
    "                             verbose = 2)      #Controls the verbosity: the higher, the more messages"
   ]
  },
  {
   "cell_type": "code",
   "execution_count": 86,
   "metadata": {},
   "outputs": [
    {
     "name": "stdout",
     "output_type": "stream",
     "text": [
      "Fitting 10 folds for each of 576 candidates, totalling 5760 fits\n"
     ]
    },
    {
     "data": {
      "text/plain": [
       "{'learning_rate': 0.05,\n",
       " 'max_depth': 6,\n",
       " 'min_child_samples': 5,\n",
       " 'n_estimators': 2000,\n",
       " 'subsample': 0.6}"
      ]
     },
     "execution_count": 86,
     "metadata": {},
     "output_type": "execute_result"
    }
   ],
   "source": [
    "lgbm_cv_model.fit(X_train_res, y_train_res)    #Fit model with cross validation\n",
    "lgbm_cv_model.best_params_                     #Show the best result on given parameters"
   ]
  },
  {
   "cell_type": "code",
   "execution_count": 87,
   "metadata": {},
   "outputs": [],
   "source": [
    "#Tune the model with the best parameters\n",
    "lgbm = LGBMClassifier(learning_rate = 0.01, \n",
    "                       max_depth = 3,\n",
    "                       subsample = 0.6,\n",
    "                       n_estimators = 1000,\n",
    "                       min_child_samples = 10)"
   ]
  },
  {
   "cell_type": "code",
   "execution_count": 88,
   "metadata": {},
   "outputs": [
    {
     "data": {
      "text/plain": [
       "0.8965293545248135"
      ]
     },
     "execution_count": 88,
     "metadata": {},
     "output_type": "execute_result"
    }
   ],
   "source": [
    "lgbm_tuned = lgbm.fit(X_train,y_train)  #Fit the model with best parameters\n",
    "y_pred = lgbm_tuned.predict(X_test)     #Prediction according to tuned model\n",
    "accuracy_score(y_test, y_pred)          #Accuracy score acording to tuned model"
   ]
  },
  {
   "cell_type": "markdown",
   "metadata": {},
   "source": [
    "#### ADABOOST"
   ]
  },
  {
   "cell_type": "code",
   "execution_count": 89,
   "metadata": {},
   "outputs": [],
   "source": [
    "ab_model = AdaBoostClassifier()        #Set the Random Forest Classifier model\n",
    "ab_model.fit(X_train_res,y_train_res)  #Fit LightGBM model\n",
    "y_pred = ab_model.predict(X_test)      #Predict y values according to X_test"
   ]
  },
  {
   "cell_type": "code",
   "execution_count": 90,
   "metadata": {},
   "outputs": [
    {
     "name": "stdout",
     "output_type": "stream",
     "text": [
      "----------------------------\n",
      "AdaBoost:\n",
      "----------------------------\n",
      "\n",
      "Accuracy: 87.1229%\n",
      "\n",
      " Recall : 0.7586912065439673\n",
      "\n",
      " Precision : 0.5707692307692308\n",
      "\n",
      " F1 Score : 0.6514486391571553\n"
     ]
    }
   ],
   "source": [
    "accuracy = accuracy_score(y_test, y_pred)              #Calculation of accuracy score for y_test and y_pred\n",
    "recall = recall_score(y_test,y_pred)                   #Calculation of recall score for y_test and y_pred\n",
    "precision = precision_score(y_test,y_pred)             #Calculation of precision score for y_test and y_pred\n",
    "f1_score = 2*(recall*precision) / (recall + precision) #Calculation of f1 score according to formulation which consists of recall and precision\n",
    "\n",
    "print(\"-\"*28)                                          #Create a line with -\n",
    "print(\"AdaBoost:\" )                                    #Print AdaBoost:\n",
    "print(\"-\"*28)                                          #Create a line with -\n",
    "print(\"\\nAccuracy: {:.4%}\".format(accuracy))           #Print Accuracy Score: accuracy_score\n",
    "print('\\n','Recall : '+str(recall))                    #Print Recall Score: recall_score\n",
    "print('\\n','Precision : '+str(precision))              #Print Precision Score: precision_score\n",
    "print('\\n','F1 Score : '+str(f1_score))                #Print F1 Score: f1_score"
   ]
  },
  {
   "cell_type": "code",
   "execution_count": 91,
   "metadata": {},
   "outputs": [
    {
     "name": "stdout",
     "output_type": "stream",
     "text": [
      "              precision    recall  f1-score   support\n",
      "\n",
      "           0       0.95      0.89      0.92      2594\n",
      "           1       0.57      0.76      0.65       489\n",
      "\n",
      "    accuracy                           0.87      3083\n",
      "   macro avg       0.76      0.83      0.79      3083\n",
      "weighted avg       0.89      0.87      0.88      3083\n",
      "\n"
     ]
    }
   ],
   "source": [
    "print(classification_report(y_test, y_pred))   #Get classification report according to y_test and y_pred"
   ]
  },
  {
   "cell_type": "markdown",
   "metadata": {},
   "source": [
    "##### AdaBoost Feature Importance"
   ]
  },
  {
   "cell_type": "code",
   "execution_count": 92,
   "metadata": {},
   "outputs": [],
   "source": [
    "features = pd.DataFrame(X_train).columns      #Get the X_train columns as features \n",
    "importances = ab_model.feature_importances_   #Assign feature importance values to importances\n",
    "indices = np.argsort(importances)             #Sort features according to their importances values "
   ]
  },
  {
   "cell_type": "code",
   "execution_count": 93,
   "metadata": {},
   "outputs": [
    {
     "data": {
      "text/plain": [
       "<matplotlib.axes._subplots.AxesSubplot at 0x21a8a4f6108>"
      ]
     },
     "execution_count": 93,
     "metadata": {},
     "output_type": "execute_result"
    },
    {
     "data": {
      "image/png": "[encoded data removed]",
      "text/plain": [
       "<Figure size 432x288 with 1 Axes>"
      ]
     },
     "metadata": {
      "needs_background": "light"
     },
     "output_type": "display_data"
    }
   ],
   "source": [
    "feat_importances = pd.Series(importances, index=feature_names)   #Get feature importances with indexes as feat_importances\n",
    "feat_importances.nlargest(24).plot(kind='bar',color = '#79CCB3') #Plot 24 features' importances as bar chart"
   ]
  },
  {
   "cell_type": "markdown",
   "metadata": {},
   "source": [
    "##### Adaboost Hyperparameter Tuning"
   ]
  },
  {
   "cell_type": "code",
   "execution_count": 94,
   "metadata": {},
   "outputs": [],
   "source": [
    "ab_params = {'n_estimators': [10,80,200,800,2000,5000],  #The maximum number of estimators at which boosting is terminated\n",
    "            'learning_rate':[0.01,0.1,0.5,1]}            #Weight applied to each classifier at each boosting iteration"
   ]
  },
  {
   "cell_type": "code",
   "execution_count": 95,
   "metadata": {},
   "outputs": [],
   "source": [
    "ab = AdaBoostClassifier()\n",
    "\n",
    "ab_cv_model = GridSearchCV(ab,           #Applying cross validation to the model\n",
    "                           ab_params,    #Search best result in given parameters\n",
    "                           cv = 10,      #Perform 10-Fold cross validation\n",
    "                           n_jobs = -1,  #n_jobs = 1 means using all processors\n",
    "                           verbose = 2)  #Controls the verbosity: the higher, the more messages"
   ]
  },
  {
   "cell_type": "code",
   "execution_count": 96,
   "metadata": {},
   "outputs": [
    {
     "name": "stdout",
     "output_type": "stream",
     "text": [
      "Fitting 10 folds for each of 24 candidates, totalling 240 fits\n"
     ]
    },
    {
     "data": {
      "text/plain": [
       "{'learning_rate': 0.5, 'n_estimators': 5000}"
      ]
     },
     "execution_count": 96,
     "metadata": {},
     "output_type": "execute_result"
    }
   ],
   "source": [
    "ab_cv_model.fit(X_train_res, y_train_res)  #Fit model with cross validation\n",
    "ab_cv_model.best_params_                   #Show the best result on given parameters"
   ]
  },
  {
   "cell_type": "code",
   "execution_count": 97,
   "metadata": {},
   "outputs": [],
   "source": [
    "#Tune the model with the best parameters\n",
    "ab = AdaBoostClassifier(learning_rate = 0.5, \n",
    "                       n_estimators = 5000)\n"
   ]
  },
  {
   "cell_type": "code",
   "execution_count": 98,
   "metadata": {},
   "outputs": [
    {
     "data": {
      "text/plain": [
       "0.8773921505027571"
      ]
     },
     "execution_count": 98,
     "metadata": {},
     "output_type": "execute_result"
    }
   ],
   "source": [
    "ab_tuned = ab.fit(X_train_res,y_train_res)  #Fit the model with best parameters\n",
    "y_pred = ab_tuned.predict(X_test)           #Prediction according to tuned model\n",
    "accuracy_score(y_test, y_pred)              #Accuracy score acording to tuned model"
   ]
  },
  {
   "cell_type": "markdown",
   "metadata": {},
   "source": [
    "### MODEL EVALUATIONS"
   ]
  },
  {
   "cell_type": "markdown",
   "metadata": {},
   "source": [
    "Below are the results after model hyperparameter tuning processes are applied.\n",
    "LightGBM(89.65%) has the best accuracy score by a small margin, followed by AdaBoost(87.74) and Random Forest(87.64).\n",
    "Given its recall values, RF(79.96%) predicts by far the best, followed by AdaBoost(65.03%) and LightGBM(60.33%).\n",
    "Given the precision values, LightGBM(70.24%) estimates by far the best, followed by AdaBoost(60.57%) and RF(58.01%).\n",
    "Considering the F1 score of models, RF(67.24%) has the best result, followed by LightGBM(64.91%) and AdaBoost(62.72%).\n",
    "Considering the ROC Curve of models, RF(93%) and LightGBM(93%) have the best result, followed by AdaBoost(90%)."
   ]
  },
  {
   "cell_type": "markdown",
   "metadata": {},
   "source": [
    "#### Results for Tuned Values of Accuracy - Recall - Precision - F1 Score"
   ]
  },
  {
   "cell_type": "code",
   "execution_count": 99,
   "metadata": {
    "id": "aIVHtw7JNFBR"
   },
   "outputs": [
    {
     "name": "stdout",
     "output_type": "stream",
     "text": [
      "----------------------------\n",
      "RandomForestClassifier:\n",
      "----------------------------\n",
      "\n",
      "Accuracy: 87.7068%\n",
      "\n",
      " Recall : 0.8016359918200409\n",
      "\n",
      " Precision : 0.5816023738872403\n",
      "\n",
      " F1 Score : 0.6741186586414445\n",
      "----------------------------\n",
      "LGBMClassifier:\n",
      "----------------------------\n",
      "\n",
      "Accuracy: 89.6529%\n",
      "\n",
      " Recall : 0.6032719836400818\n",
      "\n",
      " Precision : 0.7023809523809523\n",
      "\n",
      " F1 Score : 0.6490649064906491\n",
      "----------------------------\n",
      "AdaBoostClassifier:\n",
      "----------------------------\n",
      "\n",
      "Accuracy: 87.7392%\n",
      "\n",
      " Recall : 0.6503067484662577\n",
      "\n",
      " Precision : 0.6057142857142858\n",
      "\n",
      " F1 Score : 0.6272189349112427\n"
     ]
    }
   ],
   "source": [
    "#Thanks to for loop, tuned model results are compared \n",
    "\n",
    "models = [rf_tuned,lgbm_tuned,ab_tuned]                    #Tuned models\n",
    "for model in models:\n",
    "    names = model.__class__.__name__                       #Get the model's real name\n",
    "    y_pred = model.predict(X_test)                         #Predict y according to X_test\n",
    "    accuracy = accuracy_score(y_test, y_pred)              #Calculation of accuracy score for y_test and y_pred\n",
    "    recall = recall_score(y_test,y_pred)                   #Calculation of recall score for y_test and y_pred\n",
    "    precision = precision_score(y_test,y_pred)             #Calculation of precision score for y_test and y_pred\n",
    "    f1_score = 2*(recall*precision) / (recall + precision) #Calculation of f1 score according to formulation which consists of recall and precision\n",
    "    \n",
    "    print(\"-\"*28)                                          #Create a line with -\n",
    "    print(names + \":\" )                                    #Print model name\n",
    "    print(\"-\"*28)                                          #Create a line with -\n",
    "    print(\"\\nAccuracy: {:.4%}\".format(accuracy))           #Print Accuracy Score: accuracy_score\n",
    "    print('\\n','Recall : '+str(recall))                    #Print Recall Score: recall_score\n",
    "    print('\\n','Precision : '+str(precision))              #Print Precision Score: precision_score\n",
    "    print('\\n','F1 Score : '+str(f1_score))                #Print F1 Score: f1_score"
   ]
  },
  {
   "cell_type": "markdown",
   "metadata": {
    "id": "JovQhz71NFBR"
   },
   "source": [
    "##### Accuracy"
   ]
  },
  {
   "cell_type": "code",
   "execution_count": 100,
   "metadata": {
    "id": "376Hw3bnNFBR"
   },
   "outputs": [
    {
     "data": {
      "image/png": "[encoded data removed]",
      "text/plain": [
       "<Figure size 432x288 with 1 Axes>"
      ]
     },
     "metadata": {
      "needs_background": "light"
     },
     "output_type": "display_data"
    }
   ],
   "source": [
    "result = []   #Create an empty list\n",
    "\n",
    "results = pd.DataFrame(columns= [\"Models\",\"Accuracy\"])  #Make the columns of the results list Models and Accuracy\n",
    "\n",
    "for model in models:\n",
    "    names = model.__class__.__name__                                              #Assign the model's real name to names\n",
    "    y_pred = model.predict(X_test)                                                #Predict y according to X_test\n",
    "    accuracy = accuracy_score(y_test, y_pred)                                     #Calculate accuracy score for y_test and y_pred\n",
    "    result = pd.DataFrame([[names, accuracy*100]], columns= [\"Models\",\"Accuracy\"])#Assign model names and accuracy score to result\n",
    "    results = results.append(result)                                              #Add result to results \n",
    "\n",
    "\n",
    "sns.barplot(x= 'Accuracy', y = 'Models', data=results, color=\"b\", alpha = 0.7)    #Show comparison of accuracy scores for models on bar graph\n",
    "plt.xlabel('Accuracy %')                                                          #The heading of the x-axis is Accuracy %.\n",
    "plt.title('Accuracy of Models');                                                  #The heading of graph is Accuracy of Models"
   ]
  },
  {
   "cell_type": "markdown",
   "metadata": {
    "id": "SRLowdW_NFBS"
   },
   "source": [
    "##### Recall"
   ]
  },
  {
   "cell_type": "code",
   "execution_count": 101,
   "metadata": {
    "id": "VoM0PmPoNFBS"
   },
   "outputs": [
    {
     "data": {
      "image/png": "[encoded data removed]",
      "text/plain": [
       "<Figure size 432x288 with 1 Axes>"
      ]
     },
     "metadata": {
      "needs_background": "light"
     },
     "output_type": "display_data"
    }
   ],
   "source": [
    "result = []   #Create an empty list\n",
    "\n",
    "results = pd.DataFrame(columns= [\"Models\",\"Recall\"])  #Make the columns of the results list Models and Recall\n",
    "\n",
    "for model in models:\n",
    "    names = model.__class__.__name__                                          #Assign the model's real name to names\n",
    "    y_pred = model.predict(X_test)                                            #Predict y according to X_test\n",
    "    recall = recall_score(y_test, y_pred)                                     #Calculate recall score for y_test and y_pred\n",
    "    result = pd.DataFrame([[names, recall*100]], columns= [\"Models\",\"Recall\"])#Assign model names and recall score to result\n",
    "    results = results.append(result)                                          #Add result to results\n",
    "\n",
    "\n",
    "sns.barplot(x= 'Recall', y = 'Models', data=results, color=\"g\", alpha = 0.7)  #Show comparison of recall scores for models on bar graph\n",
    "plt.xlabel('Recall %')                                                        #The heading of the x-axis is Recall %.\n",
    "plt.title('Recall of Models');                                                #The heading of graph is Recall of Models"
   ]
  },
  {
   "cell_type": "markdown",
   "metadata": {
    "id": "X-pgCHchNFBS"
   },
   "source": [
    "##### Precision"
   ]
  },
  {
   "cell_type": "code",
   "execution_count": 102,
   "metadata": {
    "id": "o2G3vh8RNFBS"
   },
   "outputs": [
    {
     "data": {
      "image/png": "[encoded data removed]",
      "text/plain": [
       "<Figure size 432x288 with 1 Axes>"
      ]
     },
     "metadata": {
      "needs_background": "light"
     },
     "output_type": "display_data"
    }
   ],
   "source": [
    "result = []   #Create an empty list\n",
    "\n",
    "results = pd.DataFrame(columns= [\"Models\",\"Precision\"])  #Make the columns of the results list Models and Precision\n",
    "\n",
    "for model in models:\n",
    "    names = model.__class__.__name__                                               #Assign the model's real name to names\n",
    "    y_pred = model.predict(X_test)                                                 #Predict y according to X_test\n",
    "    precision = precision_score(y_test, y_pred)                                    #Calculate precision score for y_test and y_pred\n",
    "    result = pd.DataFrame([[names, precision*100]],columns= [\"Models\",\"Precision\"])#Assign model names and precision score to result\n",
    "    results = results.append(result)\n",
    "\n",
    "\n",
    "sns.barplot(x= 'Precision', y = 'Models', data=results, color=\"r\", alpha = 0.7)    #Show comparison of precision scores for models on bar graph\n",
    "plt.xlabel('Precision %')                                                          #The heading of the x-axis is Precision %.\n",
    "plt.title('Precision of Models');                                                  #The heading of graph is Precision of Models"
   ]
  },
  {
   "cell_type": "markdown",
   "metadata": {
    "id": "uxH4pkYVNFBS"
   },
   "source": [
    "##### F1 Score"
   ]
  },
  {
   "cell_type": "code",
   "execution_count": 103,
   "metadata": {
    "id": "tvsLLM-UNFBS"
   },
   "outputs": [
    {
     "data": {
      "image/png": "[encoded data removed]",
      "text/plain": [
       "<Figure size 432x288 with 1 Axes>"
      ]
     },
     "metadata": {
      "needs_background": "light"
     },
     "output_type": "display_data"
    }
   ],
   "source": [
    "result = []   #Create an empty list\n",
    "\n",
    "results = pd.DataFrame(columns= [\"Models\",\"F1 Score\"])   #Make the columns of the results list Models and F1 Score\n",
    "\n",
    "for model in models:\n",
    "    names = model.__class__.__name__                                              #Assign the model's real name to names\n",
    "    y_pred = model.predict(X_test)                                                #Predict y according to X_test\n",
    "    recall = recall_score(y_test,y_pred)                                          #Calculate recall score for y_test and y_pred\n",
    "    precision = precision_score(y_test,y_pred)                                    #Calculate precision score for y_test and y_pred\n",
    "    f1_score = 2*(recall*precision) / (recall + precision)                        #Calculate f1 score according to recall and precision\n",
    "    result = pd.DataFrame([[names, f1_score*100]], columns= [\"Models\",\"F1 Score\"])#Assign model names and f1 score to result\n",
    "    results = results.append(result)\n",
    "\n",
    "\n",
    "sns.barplot(x= 'F1 Score', y = 'Models', data=results, color=\"y\", alpha = 0.7)    #Show comparison of f1 scores for models on bar graph\n",
    "plt.xlabel('F1 Score %')                                                          #The heading of the x-axis is F1 Score %.\n",
    "plt.title('F1 Score of Models');                                                  #The heading of graph is F1 Score of Models"
   ]
  },
  {
   "cell_type": "markdown",
   "metadata": {},
   "source": [
    "#### Results for Tuned Values of ROC Curves"
   ]
  },
  {
   "cell_type": "code",
   "execution_count": 104,
   "metadata": {},
   "outputs": [
    {
     "data": {
      "image/png": "[encoded data removed]",
      "text/plain": [
       "<Figure size 432x288 with 1 Axes>"
      ]
     },
     "metadata": {
      "needs_background": "light"
     },
     "output_type": "display_data"
    }
   ],
   "source": [
    "disp = plot_roc_curve(rf_tuned, X_test, y_test)           #Draw ROC Curve according to tuned Random Forest model\n",
    "plot_roc_curve(lgbm_tuned, X_test, y_test, ax=disp.ax_);  #Draw ROC Curve according to tuned LightGBM model\n",
    "plot_roc_curve(ab_tuned, X_test, y_test, ax=disp.ax_);    #Draw ROC Curve according to tuned AdaBoost model"
   ]
  },
  {
   "cell_type": "code",
   "execution_count": null,
   "metadata": {},
   "outputs": [],
   "source": []
  }
 ],
 "metadata": {
  "accelerator": "GPU",
  "colab": {
   "collapsed_sections": [
    "krre2cWiNFAz",
    "yA4B6RsYNFA0",
    "_iPRK0UfNFA1",
    "Y4kdh0TxNFA2",
    "JovQhz71NFBR",
    "X-pgCHchNFBS",
    "SRLowdW_NFBS",
    "uxH4pkYVNFBS",
    "KR8sg9W1NFBT",
    "dl1WrwarNFBU"
   ],
   "name": "CMT 307 Applied ML.ipynb",
   "provenance": []
  },
  "kernelspec": {
   "display_name": "Python 3",
   "language": "python",
   "name": "python3"
  },
  "language_info": {
   "codemirror_mode": {
    "name": "ipython",
    "version": 3
   },
   "file_extension": ".py",
   "mimetype": "text/x-python",
   "name": "python",
   "nbconvert_exporter": "python",
   "pygments_lexer": "ipython3",
   "version": "3.7.4"
  }
 },
 "nbformat": 4,
 "nbformat_minor": 1
}
